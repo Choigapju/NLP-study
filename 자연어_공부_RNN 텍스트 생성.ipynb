{
  "nbformat": 4,
  "nbformat_minor": 0,
  "metadata": {
    "colab": {
      "name": "자연어 공부.ipynb",
      "provenance": [],
      "collapsed_sections": [],
      "authorship_tag": "ABX9TyMWKBvEw2l5kfqgtELx/PCX",
      "include_colab_link": true
    },
    "kernelspec": {
      "name": "python3",
      "display_name": "Python 3"
    },
    "language_info": {
      "name": "python"
    }
  },
  "cells": [
    {
      "cell_type": "markdown",
      "metadata": {
        "id": "view-in-github",
        "colab_type": "text"
      },
      "source": [
        "<a href=\"https://colab.research.google.com/github/Choigapju/NLP-study/blob/main/%EC%9E%90%EC%97%B0%EC%96%B4_%EA%B3%B5%EB%B6%80_RNN%20%ED%85%8D%EC%8A%A4%ED%8A%B8%20%EC%83%9D%EC%84%B1.ipynb\" target=\"_parent\"><img src=\"https://colab.research.google.com/assets/colab-badge.svg\" alt=\"Open In Colab\"/></a>"
      ]
    },
    {
      "cell_type": "code",
      "source": [
        "import numpy as np\n",
        "import tensorflow as tf\n",
        "from tensorflow.keras.layers import SimpleRNN, LSTM, Bidirectional"
      ],
      "metadata": {
        "id": "xRsdRhyOMg2L"
      },
      "execution_count": 3,
      "outputs": []
    },
    {
      "cell_type": "code",
      "source": [
        "train_X = [[0.1, 4.2, 1.5, 1.1, 2.8], [1.0, 3.1, 2.5, 0.7, 1.1], [0.3, 2.1, 1.5, 2.1, 0.1], [2.2, 1.4, 0.5, 0.9, 1.1]]\n",
        "\n",
        "print(np.shape(train_X))"
      ],
      "metadata": {
        "colab": {
          "base_uri": "https://localhost:8080/"
        },
        "id": "4bQ4VgulxG3A",
        "outputId": "5f3f71dc-2ec9-48df-9d79-310be763bcaf"
      },
      "execution_count": null,
      "outputs": [
        {
          "output_type": "stream",
          "name": "stdout",
          "text": [
            "(4, 5)\n"
          ]
        }
      ]
    },
    {
      "cell_type": "code",
      "source": [
        "train_X = [[[0.1, 4.2, 1.5, 1.1, 2.8], [1.0, 3.1, 2.5, 0.7, 1.1], [0.3, 2.1, 1.5, 2.1, 0.1], [2.2, 1.4, 0.5, 0.9, 1.1]]]\n",
        "train_X = np.array(train_X, dtype=np.float32)\n",
        "print(train_X.shape)"
      ],
      "metadata": {
        "colab": {
          "base_uri": "https://localhost:8080/"
        },
        "id": "n7bT5T9RxTEM",
        "outputId": "3348fe19-fb39-47c6-e148-7921b6473da2"
      },
      "execution_count": null,
      "outputs": [
        {
          "output_type": "stream",
          "name": "stdout",
          "text": [
            "(1, 4, 5)\n"
          ]
        }
      ]
    },
    {
      "cell_type": "code",
      "source": [
        "rnn = SimpleRNN(3)\n",
        "hidden_state = rnn(train_X)\n",
        "\n",
        "print('hidden state : {}, shape: {}'.format(hidden_state, hidden_state.shape))"
      ],
      "metadata": {
        "colab": {
          "base_uri": "https://localhost:8080/"
        },
        "id": "hbgpuptQxhrk",
        "outputId": "7241b583-f6f2-43c4-a80e-24af5032feed"
      },
      "execution_count": null,
      "outputs": [
        {
          "output_type": "stream",
          "name": "stdout",
          "text": [
            "hidden state : [[0.8465809  0.9903875  0.35042366]], shape: (1, 3)\n"
          ]
        }
      ]
    },
    {
      "cell_type": "code",
      "source": [
        "rnn = SimpleRNN(3, return_sequences=True)\n",
        "hidden_states = rnn(train_X)\n",
        "\n",
        "print('hidden state : {}, shape: {}'.format(hidden_state, hidden_state.shape))"
      ],
      "metadata": {
        "colab": {
          "base_uri": "https://localhost:8080/"
        },
        "id": "fQB893aqygwM",
        "outputId": "7075b6fc-cddc-49f8-fbcd-011638866096"
      },
      "execution_count": null,
      "outputs": [
        {
          "output_type": "stream",
          "name": "stdout",
          "text": [
            "hidden state : [[0.8465809  0.9903875  0.35042366]], shape: (1, 3)\n"
          ]
        }
      ]
    },
    {
      "cell_type": "code",
      "source": [
        "rnn = SimpleRNN(3, return_sequences=True, return_state=True)\n",
        "hidden_states, last_state = rnn(train_X)\n",
        "\n",
        "print('hidden states : {}, shape: {}'.format(hidden_states, hidden_states.shape))\n",
        "print('last hidden state : {}, shape: {}'.format(last_state, last_state.shape))\n"
      ],
      "metadata": {
        "colab": {
          "base_uri": "https://localhost:8080/"
        },
        "id": "ElLPNbSp00Ti",
        "outputId": "c3006e46-a139-485e-ecc8-f5854ea16146"
      },
      "execution_count": null,
      "outputs": [
        {
          "output_type": "stream",
          "name": "stdout",
          "text": [
            "hidden states : [[[-0.69427866  0.38026226 -0.9885583 ]\n",
            "  [-0.15734556 -0.7164579   0.7601514 ]\n",
            "  [-0.6353941  -0.6050111  -0.8567509 ]\n",
            "  [-0.9934629  -0.9477423  -0.05769924]]], shape: (1, 4, 3)\n",
            "last hidden state : [[-0.9934629  -0.9477423  -0.05769924]], shape: (1, 3)\n"
          ]
        }
      ]
    },
    {
      "cell_type": "code",
      "source": [
        "rnn = SimpleRNN(3, return_sequences=False, return_state=True)\n",
        "hidden_state, last_state = rnn(train_X)\n",
        "\n",
        "print('hidden state : {}, shape: {}'.format(hidden_state, hidden_state.shape))\n",
        "print('last hidden state : {}, shape: {}'.format(last_state, last_state.shape))\n"
      ],
      "metadata": {
        "colab": {
          "base_uri": "https://localhost:8080/"
        },
        "id": "0U6vd5fX11AY",
        "outputId": "70962b5f-ba78-4d0f-e7b5-5eaf44b0537a"
      },
      "execution_count": null,
      "outputs": [
        {
          "output_type": "stream",
          "name": "stdout",
          "text": [
            "hidden state : [[ 0.99101967 -0.44755557  0.98695403]], shape: (1, 3)\n",
            "last hidden state : [[ 0.99101967 -0.44755557  0.98695403]], shape: (1, 3)\n"
          ]
        }
      ]
    },
    {
      "cell_type": "code",
      "source": [
        "lstm = LSTM(3, return_sequences=False, return_state=True)\n",
        "hidden_state, last_state, last_cell_state = lstm(train_X)\n",
        "\n",
        "print('hidden state : {}, shape: {}'.format(hidden_state, hidden_state.shape))\n",
        "print('last hidden state : {}, shape: {}'.format(last_state, last_state.shape))\n",
        "print('last cell state : {}, shape: {}'.format(last_cell_state, last_cell_state.shape))\n"
      ],
      "metadata": {
        "colab": {
          "base_uri": "https://localhost:8080/"
        },
        "id": "ui-CKSLv2mds",
        "outputId": "50053c3d-3811-47a9-f33a-3674d125b202"
      },
      "execution_count": null,
      "outputs": [
        {
          "output_type": "stream",
          "name": "stdout",
          "text": [
            "hidden state : [[-0.5414294  -0.12832801 -0.00167134]], shape: (1, 3)\n",
            "last hidden state : [[-0.5414294  -0.12832801 -0.00167134]], shape: (1, 3)\n",
            "last cell state : [[-1.5656017  -0.21013646 -0.00710243]], shape: (1, 3)\n"
          ]
        }
      ]
    },
    {
      "cell_type": "code",
      "source": [
        "##LSTM 이해하기"
      ],
      "metadata": {
        "id": "lRfoQTrg2qr1"
      },
      "execution_count": null,
      "outputs": []
    },
    {
      "cell_type": "code",
      "source": [
        "k_init = tf.keras.initializers.Constant(value=0.1)\n",
        "b_init = tf.keras.initializers.Constant(value=0)\n",
        "r_init = tf.keras.initializers.Constant(value=0.1)"
      ],
      "metadata": {
        "id": "e_S6y0zG4U6Y"
      },
      "execution_count": null,
      "outputs": []
    },
    {
      "cell_type": "code",
      "source": [
        "bilstm = Bidirectional(LSTM(3, return_sequences=False, return_state=True, \\\n",
        "                            kernel_initializer=k_init, bias_initializer=b_init, recurrent_initializer=r_init))\n",
        "hidden_states, forward_h, forward_c, backward_h, backward_c = bilstm(train_X)\n",
        "\n",
        "print('hidden states : {}, shape: {}'.format(hidden_states, hidden_states.shape))\n",
        "print('forward state : {}, shape: {}'.format(forward_h, forward_h.shape))\n",
        "print('backward state : {}, shape: {}'.format(backward_h, backward_h.shape))"
      ],
      "metadata": {
        "colab": {
          "base_uri": "https://localhost:8080/"
        },
        "id": "RSucW8lc4Xgt",
        "outputId": "3413dfe2-d337-4648-aa08-b8396bcc8462"
      },
      "execution_count": null,
      "outputs": [
        {
          "output_type": "stream",
          "name": "stdout",
          "text": [
            "hidden states : [[0.63031393 0.63031393 0.63031393 0.7038734  0.7038734  0.7038734 ]], shape: (1, 6)\n",
            "forward state : [[0.63031393 0.63031393 0.63031393]], shape: (1, 3)\n",
            "backward state : [[0.7038734 0.7038734 0.7038734]], shape: (1, 3)\n"
          ]
        }
      ]
    },
    {
      "cell_type": "code",
      "source": [
        "bilstm = Bidirectional(LSTM(3, return_sequences=True, return_state=True, \\\n",
        "                            kernel_initializer=k_init, bias_initializer=b_init, recurrent_initializer=r_init))\n",
        "hidden_states, forward_h, forward_c, backward_h, backward_c = bilstm(train_X)\n"
      ],
      "metadata": {
        "id": "WsvyYSTq4aNp"
      },
      "execution_count": null,
      "outputs": []
    },
    {
      "cell_type": "code",
      "source": [
        "print('hidden states : {}, shape: {}'.format(hidden_states, hidden_states.shape))\n",
        "print('forward state : {}, shape: {}'.format(forward_h, forward_h.shape))\n",
        "print('backward state : {}, shape: {}'.format(backward_h, backward_h.shape))"
      ],
      "metadata": {
        "colab": {
          "base_uri": "https://localhost:8080/"
        },
        "id": "WxWfjxMc60bc",
        "outputId": "72fbd707-e0e5-48af-d5fa-5f5744b4d8ac"
      },
      "execution_count": null,
      "outputs": [
        {
          "output_type": "stream",
          "name": "stdout",
          "text": [
            "hidden states : [[[0.35906473 0.35906473 0.35906473 0.7038734  0.7038734  0.7038734 ]\n",
            "  [0.5511133  0.5511133  0.5511133  0.58863586 0.58863586 0.58863586]\n",
            "  [0.59115744 0.59115744 0.59115744 0.3951699  0.3951699  0.3951699 ]\n",
            "  [0.63031393 0.63031393 0.63031393 0.21942244 0.21942244 0.21942244]]], shape: (1, 4, 6)\n",
            "forward state : [[0.63031393 0.63031393 0.63031393]], shape: (1, 3)\n",
            "backward state : [[0.7038734 0.7038734 0.7038734]], shape: (1, 3)\n"
          ]
        }
      ]
    },
    {
      "cell_type": "code",
      "source": [
        "import numpy as np\n",
        "from tensorflow.keras.preprocessing.text import Tokenizer\n",
        "from tensorflow.keras.preprocessing.sequence import pad_sequences\n",
        "from tensorflow.keras.utils import to_categorical"
      ],
      "metadata": {
        "id": "1nEFPhck7BuV"
      },
      "execution_count": 11,
      "outputs": []
    },
    {
      "cell_type": "code",
      "source": [
        "text = \"\"\"경마장에 있는 말이 뛰고 있다\\n\n",
        "          그의 말이 법이다\\n\n",
        "          가는 말이 고와야 오는 말이 곱다\\n\"\"\""
      ],
      "metadata": {
        "id": "ewE1XKEoP15U"
      },
      "execution_count": 12,
      "outputs": []
    },
    {
      "cell_type": "code",
      "source": [
        "tokenizer = Tokenizer()\n",
        "tokenizer.fit_on_texts([text])\n",
        "vocab_size = len(tokenizer.word_index) + 1\n",
        "print('단어 집합의 크기 : %d' %vocab_size)"
      ],
      "metadata": {
        "colab": {
          "base_uri": "https://localhost:8080/"
        },
        "id": "guON0IKAQHOJ",
        "outputId": "a50750f3-7f20-4e46-dfee-7488e6362b16"
      },
      "execution_count": 13,
      "outputs": [
        {
          "output_type": "stream",
          "name": "stdout",
          "text": [
            "단어 집합의 크기 : 12\n"
          ]
        }
      ]
    },
    {
      "cell_type": "code",
      "source": [
        "print(tokenizer.word_index)"
      ],
      "metadata": {
        "colab": {
          "base_uri": "https://localhost:8080/"
        },
        "id": "SicbTcML_U6a",
        "outputId": "2fdba40f-cb17-4d35-87fc-48fc8616bce3"
      },
      "execution_count": 14,
      "outputs": [
        {
          "output_type": "stream",
          "name": "stdout",
          "text": [
            "{'말이': 1, '경마장에': 2, '있는': 3, '뛰고': 4, '있다': 5, '그의': 6, '법이다': 7, '가는': 8, '고와야': 9, '오는': 10, '곱다': 11}\n"
          ]
        }
      ]
    },
    {
      "cell_type": "code",
      "source": [
        "sequences = list()\n",
        "for line in text.split('\\n'):\n",
        "  encoded = tokenizer.texts_to_sequences([line])[0]\n",
        "  for i in range(1, len(encoded)):\n",
        "    sequence = encoded[:i+1]\n",
        "    sequences.append(sequence)\n",
        "\n",
        "print('학습에 사용할 샘플의 개수 : %d' %len(sequences))"
      ],
      "metadata": {
        "colab": {
          "base_uri": "https://localhost:8080/"
        },
        "id": "c1F4uK-fBgSk",
        "outputId": "ff645016-31ce-479b-a908-610edbf29a73"
      },
      "execution_count": 15,
      "outputs": [
        {
          "output_type": "stream",
          "name": "stdout",
          "text": [
            "학습에 사용할 샘플의 개수 : 11\n"
          ]
        }
      ]
    },
    {
      "cell_type": "code",
      "source": [
        "print(sequences)"
      ],
      "metadata": {
        "colab": {
          "base_uri": "https://localhost:8080/"
        },
        "id": "OY53Z8mvCV-h",
        "outputId": "b6d7bafb-700b-45df-ca94-799ff817ea6c"
      },
      "execution_count": 16,
      "outputs": [
        {
          "output_type": "stream",
          "name": "stdout",
          "text": [
            "[[2, 3], [2, 3, 1], [2, 3, 1, 4], [2, 3, 1, 4, 5], [6, 1], [6, 1, 7], [8, 1], [8, 1, 9], [8, 1, 9, 10], [8, 1, 9, 10, 1], [8, 1, 9, 10, 1, 11]]\n"
          ]
        }
      ]
    },
    {
      "cell_type": "code",
      "source": [
        "max_len = max(len(l) for l in sequences)\n",
        "print('샘플의 최대 길이 : {}'.format(max_len))"
      ],
      "metadata": {
        "colab": {
          "base_uri": "https://localhost:8080/"
        },
        "id": "J1Bvjw8JC2fM",
        "outputId": "f096cb7b-ae1f-4bed-fdc0-ccd03cbfb3fe"
      },
      "execution_count": 17,
      "outputs": [
        {
          "output_type": "stream",
          "name": "stdout",
          "text": [
            "샘플의 최대 길이 : 6\n"
          ]
        }
      ]
    },
    {
      "cell_type": "code",
      "source": [
        "sequences = pad_sequences(sequences, maxlen=max_len, padding='pre')"
      ],
      "metadata": {
        "id": "7SKaLQd_DYJf"
      },
      "execution_count": 18,
      "outputs": []
    },
    {
      "cell_type": "code",
      "source": [
        "print(sequences)"
      ],
      "metadata": {
        "colab": {
          "base_uri": "https://localhost:8080/"
        },
        "id": "gk4lCJjWIMQf",
        "outputId": "e66ba582-fc45-4415-a9da-6879a6f65d8e"
      },
      "execution_count": 19,
      "outputs": [
        {
          "output_type": "stream",
          "name": "stdout",
          "text": [
            "[[ 0  0  0  0  2  3]\n",
            " [ 0  0  0  2  3  1]\n",
            " [ 0  0  2  3  1  4]\n",
            " [ 0  2  3  1  4  5]\n",
            " [ 0  0  0  0  6  1]\n",
            " [ 0  0  0  6  1  7]\n",
            " [ 0  0  0  0  8  1]\n",
            " [ 0  0  0  8  1  9]\n",
            " [ 0  0  8  1  9 10]\n",
            " [ 0  8  1  9 10  1]\n",
            " [ 8  1  9 10  1 11]]\n"
          ]
        }
      ]
    },
    {
      "cell_type": "code",
      "source": [
        "sequences = np.array(sequences)\n",
        "X = sequences[:, :-1]\n",
        "y = sequences[:, -1]"
      ],
      "metadata": {
        "id": "6duBjM8PIO0I"
      },
      "execution_count": 20,
      "outputs": []
    },
    {
      "cell_type": "code",
      "source": [
        "print(X)"
      ],
      "metadata": {
        "colab": {
          "base_uri": "https://localhost:8080/"
        },
        "id": "1lEjpSURIkSS",
        "outputId": "6b1e5449-4839-4b8f-e6f5-5d1ba102554a"
      },
      "execution_count": 21,
      "outputs": [
        {
          "output_type": "stream",
          "name": "stdout",
          "text": [
            "[[ 0  0  0  0  2]\n",
            " [ 0  0  0  2  3]\n",
            " [ 0  0  2  3  1]\n",
            " [ 0  2  3  1  4]\n",
            " [ 0  0  0  0  6]\n",
            " [ 0  0  0  6  1]\n",
            " [ 0  0  0  0  8]\n",
            " [ 0  0  0  8  1]\n",
            " [ 0  0  8  1  9]\n",
            " [ 0  8  1  9 10]\n",
            " [ 8  1  9 10  1]]\n"
          ]
        }
      ]
    },
    {
      "cell_type": "code",
      "source": [
        "print(y)"
      ],
      "metadata": {
        "colab": {
          "base_uri": "https://localhost:8080/"
        },
        "id": "0UJScPUdIly-",
        "outputId": "512401aa-d649-40c3-92f7-43107a9734f8"
      },
      "execution_count": 22,
      "outputs": [
        {
          "output_type": "stream",
          "name": "stdout",
          "text": [
            "[ 3  1  4  5  1  7  1  9 10  1 11]\n"
          ]
        }
      ]
    },
    {
      "cell_type": "code",
      "source": [
        "y = to_categorical(y, num_classes=vocab_size)"
      ],
      "metadata": {
        "id": "HP0FTnOKIuAi"
      },
      "execution_count": 23,
      "outputs": []
    },
    {
      "cell_type": "code",
      "source": [
        "print(y)"
      ],
      "metadata": {
        "colab": {
          "base_uri": "https://localhost:8080/"
        },
        "id": "PeQRcfIhI3AD",
        "outputId": "bd9c586a-59d6-4283-abfa-05ba6626eff0"
      },
      "execution_count": 24,
      "outputs": [
        {
          "output_type": "stream",
          "name": "stdout",
          "text": [
            "[[0. 0. 0. 1. 0. 0. 0. 0. 0. 0. 0. 0.]\n",
            " [0. 1. 0. 0. 0. 0. 0. 0. 0. 0. 0. 0.]\n",
            " [0. 0. 0. 0. 1. 0. 0. 0. 0. 0. 0. 0.]\n",
            " [0. 0. 0. 0. 0. 1. 0. 0. 0. 0. 0. 0.]\n",
            " [0. 1. 0. 0. 0. 0. 0. 0. 0. 0. 0. 0.]\n",
            " [0. 0. 0. 0. 0. 0. 0. 1. 0. 0. 0. 0.]\n",
            " [0. 1. 0. 0. 0. 0. 0. 0. 0. 0. 0. 0.]\n",
            " [0. 0. 0. 0. 0. 0. 0. 0. 0. 1. 0. 0.]\n",
            " [0. 0. 0. 0. 0. 0. 0. 0. 0. 0. 1. 0.]\n",
            " [0. 1. 0. 0. 0. 0. 0. 0. 0. 0. 0. 0.]\n",
            " [0. 0. 0. 0. 0. 0. 0. 0. 0. 0. 0. 1.]]\n"
          ]
        }
      ]
    },
    {
      "cell_type": "code",
      "source": [
        "## model design"
      ],
      "metadata": {
        "id": "NE6hQHHFI4Dm"
      },
      "execution_count": 25,
      "outputs": []
    },
    {
      "cell_type": "code",
      "source": [
        "from tensorflow.keras.models import Sequential\n",
        "from tensorflow.keras.layers import Embedding, Dense, SimpleRNN"
      ],
      "metadata": {
        "id": "WMXRuEP55p5y"
      },
      "execution_count": 26,
      "outputs": []
    },
    {
      "cell_type": "code",
      "source": [
        "embedding_dim = 10\n",
        "hidden_units = 32\n",
        "\n",
        "model = Sequential()\n",
        "model.add(Embedding(vocab_size, embedding_dim))\n",
        "model.add(SimpleRNN(hidden_units))\n",
        "model.add(Dense(vocab_size, activation='softmax'))\n",
        "model.compile(loss='categorical_crossentropy', optimizer='adam', metrics=['accuracy'])\n",
        "model.fit(X, y, epochs=200, verbose=2)"
      ],
      "metadata": {
        "colab": {
          "base_uri": "https://localhost:8080/"
        },
        "id": "pV9jv5GJ5y5H",
        "outputId": "3ad15353-82c4-414a-9e95-6c53df1ce040"
      },
      "execution_count": 27,
      "outputs": [
        {
          "output_type": "stream",
          "name": "stdout",
          "text": [
            "Epoch 1/200\n",
            "1/1 - 1s - loss: 2.4937 - accuracy: 0.0909 - 1s/epoch - 1s/step\n",
            "Epoch 2/200\n",
            "1/1 - 0s - loss: 2.4817 - accuracy: 0.1818 - 8ms/epoch - 8ms/step\n",
            "Epoch 3/200\n",
            "1/1 - 0s - loss: 2.4699 - accuracy: 0.0000e+00 - 7ms/epoch - 7ms/step\n",
            "Epoch 4/200\n",
            "1/1 - 0s - loss: 2.4581 - accuracy: 0.0909 - 9ms/epoch - 9ms/step\n",
            "Epoch 5/200\n",
            "1/1 - 0s - loss: 2.4462 - accuracy: 0.1818 - 8ms/epoch - 8ms/step\n",
            "Epoch 6/200\n",
            "1/1 - 0s - loss: 2.4342 - accuracy: 0.3636 - 8ms/epoch - 8ms/step\n",
            "Epoch 7/200\n",
            "1/1 - 0s - loss: 2.4219 - accuracy: 0.3636 - 8ms/epoch - 8ms/step\n",
            "Epoch 8/200\n",
            "1/1 - 0s - loss: 2.4092 - accuracy: 0.3636 - 8ms/epoch - 8ms/step\n",
            "Epoch 9/200\n",
            "1/1 - 0s - loss: 2.3960 - accuracy: 0.3636 - 7ms/epoch - 7ms/step\n",
            "Epoch 10/200\n",
            "1/1 - 0s - loss: 2.3823 - accuracy: 0.3636 - 9ms/epoch - 9ms/step\n",
            "Epoch 11/200\n",
            "1/1 - 0s - loss: 2.3678 - accuracy: 0.3636 - 6ms/epoch - 6ms/step\n",
            "Epoch 12/200\n",
            "1/1 - 0s - loss: 2.3526 - accuracy: 0.3636 - 8ms/epoch - 8ms/step\n",
            "Epoch 13/200\n",
            "1/1 - 0s - loss: 2.3366 - accuracy: 0.3636 - 8ms/epoch - 8ms/step\n",
            "Epoch 14/200\n",
            "1/1 - 0s - loss: 2.3196 - accuracy: 0.3636 - 8ms/epoch - 8ms/step\n",
            "Epoch 15/200\n",
            "1/1 - 0s - loss: 2.3017 - accuracy: 0.3636 - 7ms/epoch - 7ms/step\n",
            "Epoch 16/200\n",
            "1/1 - 0s - loss: 2.2828 - accuracy: 0.3636 - 7ms/epoch - 7ms/step\n",
            "Epoch 17/200\n",
            "1/1 - 0s - loss: 2.2629 - accuracy: 0.3636 - 8ms/epoch - 8ms/step\n",
            "Epoch 18/200\n",
            "1/1 - 0s - loss: 2.2420 - accuracy: 0.3636 - 7ms/epoch - 7ms/step\n",
            "Epoch 19/200\n",
            "1/1 - 0s - loss: 2.2202 - accuracy: 0.3636 - 8ms/epoch - 8ms/step\n",
            "Epoch 20/200\n",
            "1/1 - 0s - loss: 2.1975 - accuracy: 0.3636 - 6ms/epoch - 6ms/step\n",
            "Epoch 21/200\n",
            "1/1 - 0s - loss: 2.1741 - accuracy: 0.3636 - 7ms/epoch - 7ms/step\n",
            "Epoch 22/200\n",
            "1/1 - 0s - loss: 2.1502 - accuracy: 0.3636 - 8ms/epoch - 8ms/step\n",
            "Epoch 23/200\n",
            "1/1 - 0s - loss: 2.1261 - accuracy: 0.3636 - 7ms/epoch - 7ms/step\n",
            "Epoch 24/200\n",
            "1/1 - 0s - loss: 2.1022 - accuracy: 0.3636 - 9ms/epoch - 9ms/step\n",
            "Epoch 25/200\n",
            "1/1 - 0s - loss: 2.0789 - accuracy: 0.3636 - 10ms/epoch - 10ms/step\n",
            "Epoch 26/200\n",
            "1/1 - 0s - loss: 2.0566 - accuracy: 0.3636 - 6ms/epoch - 6ms/step\n",
            "Epoch 27/200\n",
            "1/1 - 0s - loss: 2.0360 - accuracy: 0.3636 - 8ms/epoch - 8ms/step\n",
            "Epoch 28/200\n",
            "1/1 - 0s - loss: 2.0173 - accuracy: 0.3636 - 9ms/epoch - 9ms/step\n",
            "Epoch 29/200\n",
            "1/1 - 0s - loss: 2.0009 - accuracy: 0.3636 - 7ms/epoch - 7ms/step\n",
            "Epoch 30/200\n",
            "1/1 - 0s - loss: 1.9868 - accuracy: 0.3636 - 7ms/epoch - 7ms/step\n",
            "Epoch 31/200\n",
            "1/1 - 0s - loss: 1.9748 - accuracy: 0.3636 - 7ms/epoch - 7ms/step\n",
            "Epoch 32/200\n",
            "1/1 - 0s - loss: 1.9642 - accuracy: 0.3636 - 7ms/epoch - 7ms/step\n",
            "Epoch 33/200\n",
            "1/1 - 0s - loss: 1.9544 - accuracy: 0.3636 - 7ms/epoch - 7ms/step\n",
            "Epoch 34/200\n",
            "1/1 - 0s - loss: 1.9447 - accuracy: 0.3636 - 8ms/epoch - 8ms/step\n",
            "Epoch 35/200\n",
            "1/1 - 0s - loss: 1.9345 - accuracy: 0.3636 - 10ms/epoch - 10ms/step\n",
            "Epoch 36/200\n",
            "1/1 - 0s - loss: 1.9235 - accuracy: 0.3636 - 8ms/epoch - 8ms/step\n",
            "Epoch 37/200\n",
            "1/1 - 0s - loss: 1.9115 - accuracy: 0.3636 - 9ms/epoch - 9ms/step\n",
            "Epoch 38/200\n",
            "1/1 - 0s - loss: 1.8987 - accuracy: 0.3636 - 8ms/epoch - 8ms/step\n",
            "Epoch 39/200\n",
            "1/1 - 0s - loss: 1.8853 - accuracy: 0.3636 - 8ms/epoch - 8ms/step\n",
            "Epoch 40/200\n",
            "1/1 - 0s - loss: 1.8716 - accuracy: 0.3636 - 7ms/epoch - 7ms/step\n",
            "Epoch 41/200\n",
            "1/1 - 0s - loss: 1.8578 - accuracy: 0.3636 - 8ms/epoch - 8ms/step\n",
            "Epoch 42/200\n",
            "1/1 - 0s - loss: 1.8442 - accuracy: 0.3636 - 7ms/epoch - 7ms/step\n",
            "Epoch 43/200\n",
            "1/1 - 0s - loss: 1.8309 - accuracy: 0.3636 - 7ms/epoch - 7ms/step\n",
            "Epoch 44/200\n",
            "1/1 - 0s - loss: 1.8180 - accuracy: 0.3636 - 7ms/epoch - 7ms/step\n",
            "Epoch 45/200\n",
            "1/1 - 0s - loss: 1.8054 - accuracy: 0.3636 - 6ms/epoch - 6ms/step\n",
            "Epoch 46/200\n",
            "1/1 - 0s - loss: 1.7929 - accuracy: 0.3636 - 7ms/epoch - 7ms/step\n",
            "Epoch 47/200\n",
            "1/1 - 0s - loss: 1.7804 - accuracy: 0.3636 - 7ms/epoch - 7ms/step\n",
            "Epoch 48/200\n",
            "1/1 - 0s - loss: 1.7678 - accuracy: 0.3636 - 7ms/epoch - 7ms/step\n",
            "Epoch 49/200\n",
            "1/1 - 0s - loss: 1.7550 - accuracy: 0.3636 - 7ms/epoch - 7ms/step\n",
            "Epoch 50/200\n",
            "1/1 - 0s - loss: 1.7418 - accuracy: 0.4545 - 6ms/epoch - 6ms/step\n",
            "Epoch 51/200\n",
            "1/1 - 0s - loss: 1.7282 - accuracy: 0.4545 - 7ms/epoch - 7ms/step\n",
            "Epoch 52/200\n",
            "1/1 - 0s - loss: 1.7142 - accuracy: 0.4545 - 8ms/epoch - 8ms/step\n",
            "Epoch 53/200\n",
            "1/1 - 0s - loss: 1.6996 - accuracy: 0.4545 - 7ms/epoch - 7ms/step\n",
            "Epoch 54/200\n",
            "1/1 - 0s - loss: 1.6846 - accuracy: 0.4545 - 11ms/epoch - 11ms/step\n",
            "Epoch 55/200\n",
            "1/1 - 0s - loss: 1.6691 - accuracy: 0.4545 - 7ms/epoch - 7ms/step\n",
            "Epoch 56/200\n",
            "1/1 - 0s - loss: 1.6532 - accuracy: 0.4545 - 7ms/epoch - 7ms/step\n",
            "Epoch 57/200\n",
            "1/1 - 0s - loss: 1.6369 - accuracy: 0.4545 - 7ms/epoch - 7ms/step\n",
            "Epoch 58/200\n",
            "1/1 - 0s - loss: 1.6201 - accuracy: 0.4545 - 7ms/epoch - 7ms/step\n",
            "Epoch 59/200\n",
            "1/1 - 0s - loss: 1.6030 - accuracy: 0.4545 - 5ms/epoch - 5ms/step\n",
            "Epoch 60/200\n",
            "1/1 - 0s - loss: 1.5854 - accuracy: 0.4545 - 8ms/epoch - 8ms/step\n",
            "Epoch 61/200\n",
            "1/1 - 0s - loss: 1.5675 - accuracy: 0.4545 - 5ms/epoch - 5ms/step\n",
            "Epoch 62/200\n",
            "1/1 - 0s - loss: 1.5491 - accuracy: 0.4545 - 8ms/epoch - 8ms/step\n",
            "Epoch 63/200\n",
            "1/1 - 0s - loss: 1.5303 - accuracy: 0.4545 - 7ms/epoch - 7ms/step\n",
            "Epoch 64/200\n",
            "1/1 - 0s - loss: 1.5110 - accuracy: 0.4545 - 8ms/epoch - 8ms/step\n",
            "Epoch 65/200\n",
            "1/1 - 0s - loss: 1.4913 - accuracy: 0.4545 - 8ms/epoch - 8ms/step\n",
            "Epoch 66/200\n",
            "1/1 - 0s - loss: 1.4711 - accuracy: 0.4545 - 7ms/epoch - 7ms/step\n",
            "Epoch 67/200\n",
            "1/1 - 0s - loss: 1.4504 - accuracy: 0.4545 - 7ms/epoch - 7ms/step\n",
            "Epoch 68/200\n",
            "1/1 - 0s - loss: 1.4293 - accuracy: 0.4545 - 6ms/epoch - 6ms/step\n",
            "Epoch 69/200\n",
            "1/1 - 0s - loss: 1.4078 - accuracy: 0.4545 - 7ms/epoch - 7ms/step\n",
            "Epoch 70/200\n",
            "1/1 - 0s - loss: 1.3858 - accuracy: 0.4545 - 7ms/epoch - 7ms/step\n",
            "Epoch 71/200\n",
            "1/1 - 0s - loss: 1.3635 - accuracy: 0.5455 - 7ms/epoch - 7ms/step\n",
            "Epoch 72/200\n",
            "1/1 - 0s - loss: 1.3409 - accuracy: 0.5455 - 8ms/epoch - 8ms/step\n",
            "Epoch 73/200\n",
            "1/1 - 0s - loss: 1.3180 - accuracy: 0.6364 - 7ms/epoch - 7ms/step\n",
            "Epoch 74/200\n",
            "1/1 - 0s - loss: 1.2948 - accuracy: 0.6364 - 6ms/epoch - 6ms/step\n",
            "Epoch 75/200\n",
            "1/1 - 0s - loss: 1.2715 - accuracy: 0.6364 - 6ms/epoch - 6ms/step\n",
            "Epoch 76/200\n",
            "1/1 - 0s - loss: 1.2481 - accuracy: 0.6364 - 7ms/epoch - 7ms/step\n",
            "Epoch 77/200\n",
            "1/1 - 0s - loss: 1.2247 - accuracy: 0.6364 - 6ms/epoch - 6ms/step\n",
            "Epoch 78/200\n",
            "1/1 - 0s - loss: 1.2012 - accuracy: 0.6364 - 6ms/epoch - 6ms/step\n",
            "Epoch 79/200\n",
            "1/1 - 0s - loss: 1.1778 - accuracy: 0.6364 - 7ms/epoch - 7ms/step\n",
            "Epoch 80/200\n",
            "1/1 - 0s - loss: 1.1544 - accuracy: 0.6364 - 7ms/epoch - 7ms/step\n",
            "Epoch 81/200\n",
            "1/1 - 0s - loss: 1.1312 - accuracy: 0.6364 - 8ms/epoch - 8ms/step\n",
            "Epoch 82/200\n",
            "1/1 - 0s - loss: 1.1082 - accuracy: 0.6364 - 9ms/epoch - 9ms/step\n",
            "Epoch 83/200\n",
            "1/1 - 0s - loss: 1.0854 - accuracy: 0.7273 - 6ms/epoch - 6ms/step\n",
            "Epoch 84/200\n",
            "1/1 - 0s - loss: 1.0628 - accuracy: 0.7273 - 6ms/epoch - 6ms/step\n",
            "Epoch 85/200\n",
            "1/1 - 0s - loss: 1.0406 - accuracy: 0.7273 - 6ms/epoch - 6ms/step\n",
            "Epoch 86/200\n",
            "1/1 - 0s - loss: 1.0186 - accuracy: 0.7273 - 7ms/epoch - 7ms/step\n",
            "Epoch 87/200\n",
            "1/1 - 0s - loss: 0.9970 - accuracy: 0.7273 - 6ms/epoch - 6ms/step\n",
            "Epoch 88/200\n",
            "1/1 - 0s - loss: 0.9758 - accuracy: 0.7273 - 7ms/epoch - 7ms/step\n",
            "Epoch 89/200\n",
            "1/1 - 0s - loss: 0.9550 - accuracy: 0.7273 - 7ms/epoch - 7ms/step\n",
            "Epoch 90/200\n",
            "1/1 - 0s - loss: 0.9346 - accuracy: 0.7273 - 6ms/epoch - 6ms/step\n",
            "Epoch 91/200\n",
            "1/1 - 0s - loss: 0.9145 - accuracy: 0.7273 - 6ms/epoch - 6ms/step\n",
            "Epoch 92/200\n",
            "1/1 - 0s - loss: 0.8949 - accuracy: 0.7273 - 6ms/epoch - 6ms/step\n",
            "Epoch 93/200\n",
            "1/1 - 0s - loss: 0.8757 - accuracy: 0.7273 - 10ms/epoch - 10ms/step\n",
            "Epoch 94/200\n",
            "1/1 - 0s - loss: 0.8570 - accuracy: 0.7273 - 9ms/epoch - 9ms/step\n",
            "Epoch 95/200\n",
            "1/1 - 0s - loss: 0.8386 - accuracy: 0.7273 - 9ms/epoch - 9ms/step\n",
            "Epoch 96/200\n",
            "1/1 - 0s - loss: 0.8207 - accuracy: 0.7273 - 11ms/epoch - 11ms/step\n",
            "Epoch 97/200\n",
            "1/1 - 0s - loss: 0.8032 - accuracy: 0.7273 - 9ms/epoch - 9ms/step\n",
            "Epoch 98/200\n",
            "1/1 - 0s - loss: 0.7861 - accuracy: 0.7273 - 9ms/epoch - 9ms/step\n",
            "Epoch 99/200\n",
            "1/1 - 0s - loss: 0.7694 - accuracy: 0.7273 - 10ms/epoch - 10ms/step\n",
            "Epoch 100/200\n",
            "1/1 - 0s - loss: 0.7530 - accuracy: 0.7273 - 7ms/epoch - 7ms/step\n",
            "Epoch 101/200\n",
            "1/1 - 0s - loss: 0.7371 - accuracy: 0.8182 - 9ms/epoch - 9ms/step\n",
            "Epoch 102/200\n",
            "1/1 - 0s - loss: 0.7215 - accuracy: 0.8182 - 8ms/epoch - 8ms/step\n",
            "Epoch 103/200\n",
            "1/1 - 0s - loss: 0.7063 - accuracy: 0.8182 - 7ms/epoch - 7ms/step\n",
            "Epoch 104/200\n",
            "1/1 - 0s - loss: 0.6914 - accuracy: 0.8182 - 8ms/epoch - 8ms/step\n",
            "Epoch 105/200\n",
            "1/1 - 0s - loss: 0.6769 - accuracy: 0.8182 - 7ms/epoch - 7ms/step\n",
            "Epoch 106/200\n",
            "1/1 - 0s - loss: 0.6628 - accuracy: 0.8182 - 9ms/epoch - 9ms/step\n",
            "Epoch 107/200\n",
            "1/1 - 0s - loss: 0.6489 - accuracy: 0.8182 - 10ms/epoch - 10ms/step\n",
            "Epoch 108/200\n",
            "1/1 - 0s - loss: 0.6354 - accuracy: 0.8182 - 10ms/epoch - 10ms/step\n",
            "Epoch 109/200\n",
            "1/1 - 0s - loss: 0.6222 - accuracy: 0.8182 - 10ms/epoch - 10ms/step\n",
            "Epoch 110/200\n",
            "1/1 - 0s - loss: 0.6093 - accuracy: 0.8182 - 8ms/epoch - 8ms/step\n",
            "Epoch 111/200\n",
            "1/1 - 0s - loss: 0.5968 - accuracy: 0.8182 - 8ms/epoch - 8ms/step\n",
            "Epoch 112/200\n",
            "1/1 - 0s - loss: 0.5845 - accuracy: 0.8182 - 8ms/epoch - 8ms/step\n",
            "Epoch 113/200\n",
            "1/1 - 0s - loss: 0.5725 - accuracy: 0.8182 - 5ms/epoch - 5ms/step\n",
            "Epoch 114/200\n",
            "1/1 - 0s - loss: 0.5607 - accuracy: 0.8182 - 9ms/epoch - 9ms/step\n",
            "Epoch 115/200\n",
            "1/1 - 0s - loss: 0.5493 - accuracy: 0.8182 - 7ms/epoch - 7ms/step\n",
            "Epoch 116/200\n",
            "1/1 - 0s - loss: 0.5381 - accuracy: 0.8182 - 8ms/epoch - 8ms/step\n",
            "Epoch 117/200\n",
            "1/1 - 0s - loss: 0.5271 - accuracy: 0.8182 - 7ms/epoch - 7ms/step\n",
            "Epoch 118/200\n",
            "1/1 - 0s - loss: 0.5165 - accuracy: 0.9091 - 10ms/epoch - 10ms/step\n",
            "Epoch 119/200\n",
            "1/1 - 0s - loss: 0.5060 - accuracy: 0.9091 - 8ms/epoch - 8ms/step\n",
            "Epoch 120/200\n",
            "1/1 - 0s - loss: 0.4958 - accuracy: 0.9091 - 9ms/epoch - 9ms/step\n",
            "Epoch 121/200\n",
            "1/1 - 0s - loss: 0.4859 - accuracy: 0.9091 - 7ms/epoch - 7ms/step\n",
            "Epoch 122/200\n",
            "1/1 - 0s - loss: 0.4761 - accuracy: 0.9091 - 5ms/epoch - 5ms/step\n",
            "Epoch 123/200\n",
            "1/1 - 0s - loss: 0.4666 - accuracy: 0.9091 - 11ms/epoch - 11ms/step\n",
            "Epoch 124/200\n",
            "1/1 - 0s - loss: 0.4573 - accuracy: 0.9091 - 6ms/epoch - 6ms/step\n",
            "Epoch 125/200\n",
            "1/1 - 0s - loss: 0.4482 - accuracy: 0.9091 - 8ms/epoch - 8ms/step\n",
            "Epoch 126/200\n",
            "1/1 - 0s - loss: 0.4393 - accuracy: 0.9091 - 7ms/epoch - 7ms/step\n",
            "Epoch 127/200\n",
            "1/1 - 0s - loss: 0.4306 - accuracy: 0.9091 - 11ms/epoch - 11ms/step\n",
            "Epoch 128/200\n",
            "1/1 - 0s - loss: 0.4221 - accuracy: 0.9091 - 5ms/epoch - 5ms/step\n",
            "Epoch 129/200\n",
            "1/1 - 0s - loss: 0.4138 - accuracy: 0.9091 - 9ms/epoch - 9ms/step\n",
            "Epoch 130/200\n",
            "1/1 - 0s - loss: 0.4057 - accuracy: 0.9091 - 6ms/epoch - 6ms/step\n",
            "Epoch 131/200\n",
            "1/1 - 0s - loss: 0.3977 - accuracy: 0.9091 - 7ms/epoch - 7ms/step\n",
            "Epoch 132/200\n",
            "1/1 - 0s - loss: 0.3899 - accuracy: 0.9091 - 7ms/epoch - 7ms/step\n",
            "Epoch 133/200\n",
            "1/1 - 0s - loss: 0.3823 - accuracy: 1.0000 - 7ms/epoch - 7ms/step\n",
            "Epoch 134/200\n",
            "1/1 - 0s - loss: 0.3748 - accuracy: 1.0000 - 5ms/epoch - 5ms/step\n",
            "Epoch 135/200\n",
            "1/1 - 0s - loss: 0.3675 - accuracy: 1.0000 - 6ms/epoch - 6ms/step\n",
            "Epoch 136/200\n",
            "1/1 - 0s - loss: 0.3604 - accuracy: 1.0000 - 9ms/epoch - 9ms/step\n",
            "Epoch 137/200\n",
            "1/1 - 0s - loss: 0.3534 - accuracy: 1.0000 - 10ms/epoch - 10ms/step\n",
            "Epoch 138/200\n",
            "1/1 - 0s - loss: 0.3465 - accuracy: 1.0000 - 8ms/epoch - 8ms/step\n",
            "Epoch 139/200\n",
            "1/1 - 0s - loss: 0.3398 - accuracy: 1.0000 - 7ms/epoch - 7ms/step\n",
            "Epoch 140/200\n",
            "1/1 - 0s - loss: 0.3332 - accuracy: 1.0000 - 10ms/epoch - 10ms/step\n",
            "Epoch 141/200\n",
            "1/1 - 0s - loss: 0.3267 - accuracy: 1.0000 - 11ms/epoch - 11ms/step\n",
            "Epoch 142/200\n",
            "1/1 - 0s - loss: 0.3204 - accuracy: 1.0000 - 7ms/epoch - 7ms/step\n",
            "Epoch 143/200\n",
            "1/1 - 0s - loss: 0.3142 - accuracy: 1.0000 - 9ms/epoch - 9ms/step\n",
            "Epoch 144/200\n",
            "1/1 - 0s - loss: 0.3082 - accuracy: 1.0000 - 8ms/epoch - 8ms/step\n",
            "Epoch 145/200\n",
            "1/1 - 0s - loss: 0.3022 - accuracy: 1.0000 - 8ms/epoch - 8ms/step\n",
            "Epoch 146/200\n",
            "1/1 - 0s - loss: 0.2964 - accuracy: 1.0000 - 7ms/epoch - 7ms/step\n",
            "Epoch 147/200\n",
            "1/1 - 0s - loss: 0.2907 - accuracy: 1.0000 - 6ms/epoch - 6ms/step\n",
            "Epoch 148/200\n",
            "1/1 - 0s - loss: 0.2851 - accuracy: 1.0000 - 8ms/epoch - 8ms/step\n",
            "Epoch 149/200\n",
            "1/1 - 0s - loss: 0.2796 - accuracy: 1.0000 - 10ms/epoch - 10ms/step\n",
            "Epoch 150/200\n",
            "1/1 - 0s - loss: 0.2742 - accuracy: 1.0000 - 9ms/epoch - 9ms/step\n",
            "Epoch 151/200\n",
            "1/1 - 0s - loss: 0.2689 - accuracy: 1.0000 - 7ms/epoch - 7ms/step\n",
            "Epoch 152/200\n",
            "1/1 - 0s - loss: 0.2638 - accuracy: 1.0000 - 7ms/epoch - 7ms/step\n",
            "Epoch 153/200\n",
            "1/1 - 0s - loss: 0.2587 - accuracy: 1.0000 - 7ms/epoch - 7ms/step\n",
            "Epoch 154/200\n",
            "1/1 - 0s - loss: 0.2537 - accuracy: 1.0000 - 8ms/epoch - 8ms/step\n",
            "Epoch 155/200\n",
            "1/1 - 0s - loss: 0.2488 - accuracy: 1.0000 - 10ms/epoch - 10ms/step\n",
            "Epoch 156/200\n",
            "1/1 - 0s - loss: 0.2440 - accuracy: 1.0000 - 8ms/epoch - 8ms/step\n",
            "Epoch 157/200\n",
            "1/1 - 0s - loss: 0.2393 - accuracy: 1.0000 - 10ms/epoch - 10ms/step\n",
            "Epoch 158/200\n",
            "1/1 - 0s - loss: 0.2347 - accuracy: 1.0000 - 15ms/epoch - 15ms/step\n",
            "Epoch 159/200\n",
            "1/1 - 0s - loss: 0.2302 - accuracy: 1.0000 - 8ms/epoch - 8ms/step\n",
            "Epoch 160/200\n",
            "1/1 - 0s - loss: 0.2258 - accuracy: 1.0000 - 11ms/epoch - 11ms/step\n",
            "Epoch 161/200\n",
            "1/1 - 0s - loss: 0.2214 - accuracy: 1.0000 - 9ms/epoch - 9ms/step\n",
            "Epoch 162/200\n",
            "1/1 - 0s - loss: 0.2172 - accuracy: 1.0000 - 9ms/epoch - 9ms/step\n",
            "Epoch 163/200\n",
            "1/1 - 0s - loss: 0.2130 - accuracy: 1.0000 - 9ms/epoch - 9ms/step\n",
            "Epoch 164/200\n",
            "1/1 - 0s - loss: 0.2089 - accuracy: 1.0000 - 8ms/epoch - 8ms/step\n",
            "Epoch 165/200\n",
            "1/1 - 0s - loss: 0.2048 - accuracy: 1.0000 - 8ms/epoch - 8ms/step\n",
            "Epoch 166/200\n",
            "1/1 - 0s - loss: 0.2009 - accuracy: 1.0000 - 10ms/epoch - 10ms/step\n",
            "Epoch 167/200\n",
            "1/1 - 0s - loss: 0.1970 - accuracy: 1.0000 - 8ms/epoch - 8ms/step\n",
            "Epoch 168/200\n",
            "1/1 - 0s - loss: 0.1932 - accuracy: 1.0000 - 7ms/epoch - 7ms/step\n",
            "Epoch 169/200\n",
            "1/1 - 0s - loss: 0.1895 - accuracy: 1.0000 - 6ms/epoch - 6ms/step\n",
            "Epoch 170/200\n",
            "1/1 - 0s - loss: 0.1859 - accuracy: 1.0000 - 6ms/epoch - 6ms/step\n",
            "Epoch 171/200\n",
            "1/1 - 0s - loss: 0.1823 - accuracy: 1.0000 - 8ms/epoch - 8ms/step\n",
            "Epoch 172/200\n",
            "1/1 - 0s - loss: 0.1788 - accuracy: 1.0000 - 9ms/epoch - 9ms/step\n",
            "Epoch 173/200\n",
            "1/1 - 0s - loss: 0.1754 - accuracy: 1.0000 - 11ms/epoch - 11ms/step\n",
            "Epoch 174/200\n",
            "1/1 - 0s - loss: 0.1720 - accuracy: 1.0000 - 8ms/epoch - 8ms/step\n",
            "Epoch 175/200\n",
            "1/1 - 0s - loss: 0.1687 - accuracy: 1.0000 - 7ms/epoch - 7ms/step\n",
            "Epoch 176/200\n",
            "1/1 - 0s - loss: 0.1655 - accuracy: 1.0000 - 10ms/epoch - 10ms/step\n",
            "Epoch 177/200\n",
            "1/1 - 0s - loss: 0.1623 - accuracy: 1.0000 - 10ms/epoch - 10ms/step\n",
            "Epoch 178/200\n",
            "1/1 - 0s - loss: 0.1592 - accuracy: 1.0000 - 8ms/epoch - 8ms/step\n",
            "Epoch 179/200\n",
            "1/1 - 0s - loss: 0.1561 - accuracy: 1.0000 - 8ms/epoch - 8ms/step\n",
            "Epoch 180/200\n",
            "1/1 - 0s - loss: 0.1532 - accuracy: 1.0000 - 7ms/epoch - 7ms/step\n",
            "Epoch 181/200\n",
            "1/1 - 0s - loss: 0.1503 - accuracy: 1.0000 - 6ms/epoch - 6ms/step\n",
            "Epoch 182/200\n",
            "1/1 - 0s - loss: 0.1474 - accuracy: 1.0000 - 6ms/epoch - 6ms/step\n",
            "Epoch 183/200\n",
            "1/1 - 0s - loss: 0.1446 - accuracy: 1.0000 - 8ms/epoch - 8ms/step\n",
            "Epoch 184/200\n",
            "1/1 - 0s - loss: 0.1419 - accuracy: 1.0000 - 7ms/epoch - 7ms/step\n",
            "Epoch 185/200\n",
            "1/1 - 0s - loss: 0.1392 - accuracy: 1.0000 - 10ms/epoch - 10ms/step\n",
            "Epoch 186/200\n",
            "1/1 - 0s - loss: 0.1366 - accuracy: 1.0000 - 12ms/epoch - 12ms/step\n",
            "Epoch 187/200\n",
            "1/1 - 0s - loss: 0.1340 - accuracy: 1.0000 - 5ms/epoch - 5ms/step\n",
            "Epoch 188/200\n",
            "1/1 - 0s - loss: 0.1315 - accuracy: 1.0000 - 8ms/epoch - 8ms/step\n",
            "Epoch 189/200\n",
            "1/1 - 0s - loss: 0.1290 - accuracy: 1.0000 - 8ms/epoch - 8ms/step\n",
            "Epoch 190/200\n",
            "1/1 - 0s - loss: 0.1266 - accuracy: 1.0000 - 7ms/epoch - 7ms/step\n",
            "Epoch 191/200\n",
            "1/1 - 0s - loss: 0.1243 - accuracy: 1.0000 - 7ms/epoch - 7ms/step\n",
            "Epoch 192/200\n",
            "1/1 - 0s - loss: 0.1220 - accuracy: 1.0000 - 8ms/epoch - 8ms/step\n",
            "Epoch 193/200\n",
            "1/1 - 0s - loss: 0.1197 - accuracy: 1.0000 - 8ms/epoch - 8ms/step\n",
            "Epoch 194/200\n",
            "1/1 - 0s - loss: 0.1175 - accuracy: 1.0000 - 7ms/epoch - 7ms/step\n",
            "Epoch 195/200\n",
            "1/1 - 0s - loss: 0.1154 - accuracy: 1.0000 - 10ms/epoch - 10ms/step\n",
            "Epoch 196/200\n",
            "1/1 - 0s - loss: 0.1133 - accuracy: 1.0000 - 8ms/epoch - 8ms/step\n",
            "Epoch 197/200\n",
            "1/1 - 0s - loss: 0.1112 - accuracy: 1.0000 - 6ms/epoch - 6ms/step\n",
            "Epoch 198/200\n",
            "1/1 - 0s - loss: 0.1092 - accuracy: 1.0000 - 7ms/epoch - 7ms/step\n",
            "Epoch 199/200\n",
            "1/1 - 0s - loss: 0.1073 - accuracy: 1.0000 - 8ms/epoch - 8ms/step\n",
            "Epoch 200/200\n",
            "1/1 - 0s - loss: 0.1053 - accuracy: 1.0000 - 9ms/epoch - 9ms/step\n"
          ]
        },
        {
          "output_type": "execute_result",
          "data": {
            "text/plain": [
              "<keras.callbacks.History at 0x7f931ccc70d0>"
            ]
          },
          "metadata": {},
          "execution_count": 27
        }
      ]
    },
    {
      "cell_type": "code",
      "source": [
        "def sentence_generation(model, tokenizer, current_word, n):\n",
        "  init_word = current_word\n",
        "  sentence = ''\n",
        "\n",
        "  for i in range(n):\n",
        "    encoded = tokenizer.texts_to_sequences([current_word])[0]\n",
        "    encoded = pad_sequences([encoded], maxlen=5, padding='pre')\n",
        "    result = model.predict(encoded, verbose=0)\n",
        "    result = np.argmax(result, axis=1)\n",
        "\n",
        "    for word, index in tokenizer.word_index.items():\n",
        "      if index == result:\n",
        "        break\n",
        "\n",
        "    current_word = current_word + ' ' + word\n",
        "\n",
        "  sentence = init_word + sentence\n",
        "  return sentence"
      ],
      "metadata": {
        "id": "C3Kvew-i6lwI"
      },
      "execution_count": 28,
      "outputs": []
    },
    {
      "cell_type": "code",
      "source": [
        "print(sentence_generation(model, tokenizer, '경마장에', 4))"
      ],
      "metadata": {
        "colab": {
          "base_uri": "https://localhost:8080/"
        },
        "id": "50iN8X8v78oA",
        "outputId": "cb45d590-22d3-474d-f028-56b440c7e55f"
      },
      "execution_count": 31,
      "outputs": [
        {
          "output_type": "stream",
          "name": "stdout",
          "text": [
            "경마장에\n"
          ]
        }
      ]
    },
    {
      "cell_type": "code",
      "source": [
        "print(sentence_generation(model, tokenizer, '그의', 2))"
      ],
      "metadata": {
        "colab": {
          "base_uri": "https://localhost:8080/"
        },
        "id": "isLDbmkV8DBo",
        "outputId": "4cbd20bd-d402-41c2-a37c-0b6900c9cc26"
      },
      "execution_count": 30,
      "outputs": [
        {
          "output_type": "stream",
          "name": "stdout",
          "text": [
            "그의\n"
          ]
        }
      ]
    },
    {
      "cell_type": "code",
      "source": [
        "import pandas as pd\n",
        "import numpy as np\n",
        "from string import punctuation\n",
        "\n",
        "from tensorflow.keras.preprocessing.text import Tokenizer\n",
        "from tensorflow.keras.preprocessing.sequence import pad_sequences\n",
        "from tensorflow.keras.utils import to_categorical"
      ],
      "metadata": {
        "id": "AxAFgVXe8Pnr"
      },
      "execution_count": 32,
      "outputs": []
    },
    {
      "cell_type": "code",
      "source": [
        "df = pd.read_csv('ArticlesApril2017.csv')\n",
        "df.head()"
      ],
      "metadata": {
        "colab": {
          "base_uri": "https://localhost:8080/",
          "height": 669
        },
        "id": "suy9xj-x9MWW",
        "outputId": "74d1faf2-420a-4cce-e409-335731f85aad"
      },
      "execution_count": 34,
      "outputs": [
        {
          "output_type": "execute_result",
          "data": {
            "text/plain": [
              "  abstract                 articleID  articleWordCount  \\\n",
              "0      NaN  58def1347c459f24986d7c80               716   \n",
              "1      NaN  58def3237c459f24986d7c84               823   \n",
              "2      NaN  58def9f57c459f24986d7c90               575   \n",
              "3      NaN  58defd317c459f24986d7c95              1374   \n",
              "4      NaN  58df09b77c459f24986d7ca7               708   \n",
              "\n",
              "                                byline documentType  \\\n",
              "0  By STEPHEN HILTNER and SUSAN LEHMAN      article   \n",
              "1                      By GAIL COLLINS      article   \n",
              "2               By THE EDITORIAL BOARD      article   \n",
              "3                    By MICHAEL POWELL      article   \n",
              "4                         By DEB AMLEN      article   \n",
              "\n",
              "                                            headline  \\\n",
              "0  Finding an Expansive View  of a Forgotten Peop...   \n",
              "1                  And Now,  the Dreaded Trump Curse   \n",
              "2              Venezuela’s Descent Into Dictatorship   \n",
              "3              Stain Permeates Basketball Blue Blood   \n",
              "4                          Taking Things for Granted   \n",
              "\n",
              "                                            keywords  multimedia    newDesk  \\\n",
              "0  ['Photography', 'New York Times', 'Niger', 'Fe...           3    Insider   \n",
              "1  ['United States Politics and Government', 'Tru...           3       OpEd   \n",
              "2  ['Venezuela', 'Politics and Government', 'Madu...           3  Editorial   \n",
              "3  ['Basketball (College)', 'University of North ...           3     Sports   \n",
              "4                              ['Crossword Puzzles']           3      Games   \n",
              "\n",
              "   printPage              pubDate         sectionName  \\\n",
              "0          2  2017-04-01 00:15:41             Unknown   \n",
              "1         23  2017-04-01 00:23:58             Unknown   \n",
              "2         22  2017-04-01 00:53:06             Unknown   \n",
              "3          1  2017-04-01 01:06:52  College Basketball   \n",
              "4          0  2017-04-01 02:00:14             Unknown   \n",
              "\n",
              "                                             snippet              source  \\\n",
              "0  One of the largest photo displays in Times his...  The New York Times   \n",
              "1                  Meet the gang from under the bus.  The New York Times   \n",
              "2  A court ruling annulling the legislature’s aut...  The New York Times   \n",
              "3  For two decades, until 2013, North Carolina en...  The New York Times   \n",
              "4  In which Howard Barkin and Will Shortz teach u...  The New York Times   \n",
              "\n",
              "  typeOfMaterial                                             webURL  \n",
              "0           News  https://www.nytimes.com/2017/03/31/insider/nig...  \n",
              "1          Op-Ed  https://www.nytimes.com/2017/03/31/opinion/and...  \n",
              "2      Editorial  https://www.nytimes.com/2017/03/31/opinion/ven...  \n",
              "3           News  https://www.nytimes.com/2017/03/31/sports/ncaa...  \n",
              "4           News  https://www.nytimes.com/2017/03/31/crosswords/...  "
            ],
            "text/html": [
              "\n",
              "  <div id=\"df-97af0738-f3d6-43e8-85ff-cf8a84ed0dd6\">\n",
              "    <div class=\"colab-df-container\">\n",
              "      <div>\n",
              "<style scoped>\n",
              "    .dataframe tbody tr th:only-of-type {\n",
              "        vertical-align: middle;\n",
              "    }\n",
              "\n",
              "    .dataframe tbody tr th {\n",
              "        vertical-align: top;\n",
              "    }\n",
              "\n",
              "    .dataframe thead th {\n",
              "        text-align: right;\n",
              "    }\n",
              "</style>\n",
              "<table border=\"1\" class=\"dataframe\">\n",
              "  <thead>\n",
              "    <tr style=\"text-align: right;\">\n",
              "      <th></th>\n",
              "      <th>abstract</th>\n",
              "      <th>articleID</th>\n",
              "      <th>articleWordCount</th>\n",
              "      <th>byline</th>\n",
              "      <th>documentType</th>\n",
              "      <th>headline</th>\n",
              "      <th>keywords</th>\n",
              "      <th>multimedia</th>\n",
              "      <th>newDesk</th>\n",
              "      <th>printPage</th>\n",
              "      <th>pubDate</th>\n",
              "      <th>sectionName</th>\n",
              "      <th>snippet</th>\n",
              "      <th>source</th>\n",
              "      <th>typeOfMaterial</th>\n",
              "      <th>webURL</th>\n",
              "    </tr>\n",
              "  </thead>\n",
              "  <tbody>\n",
              "    <tr>\n",
              "      <th>0</th>\n",
              "      <td>NaN</td>\n",
              "      <td>58def1347c459f24986d7c80</td>\n",
              "      <td>716</td>\n",
              "      <td>By STEPHEN HILTNER and SUSAN LEHMAN</td>\n",
              "      <td>article</td>\n",
              "      <td>Finding an Expansive View  of a Forgotten Peop...</td>\n",
              "      <td>['Photography', 'New York Times', 'Niger', 'Fe...</td>\n",
              "      <td>3</td>\n",
              "      <td>Insider</td>\n",
              "      <td>2</td>\n",
              "      <td>2017-04-01 00:15:41</td>\n",
              "      <td>Unknown</td>\n",
              "      <td>One of the largest photo displays in Times his...</td>\n",
              "      <td>The New York Times</td>\n",
              "      <td>News</td>\n",
              "      <td>https://www.nytimes.com/2017/03/31/insider/nig...</td>\n",
              "    </tr>\n",
              "    <tr>\n",
              "      <th>1</th>\n",
              "      <td>NaN</td>\n",
              "      <td>58def3237c459f24986d7c84</td>\n",
              "      <td>823</td>\n",
              "      <td>By GAIL COLLINS</td>\n",
              "      <td>article</td>\n",
              "      <td>And Now,  the Dreaded Trump Curse</td>\n",
              "      <td>['United States Politics and Government', 'Tru...</td>\n",
              "      <td>3</td>\n",
              "      <td>OpEd</td>\n",
              "      <td>23</td>\n",
              "      <td>2017-04-01 00:23:58</td>\n",
              "      <td>Unknown</td>\n",
              "      <td>Meet the gang from under the bus.</td>\n",
              "      <td>The New York Times</td>\n",
              "      <td>Op-Ed</td>\n",
              "      <td>https://www.nytimes.com/2017/03/31/opinion/and...</td>\n",
              "    </tr>\n",
              "    <tr>\n",
              "      <th>2</th>\n",
              "      <td>NaN</td>\n",
              "      <td>58def9f57c459f24986d7c90</td>\n",
              "      <td>575</td>\n",
              "      <td>By THE EDITORIAL BOARD</td>\n",
              "      <td>article</td>\n",
              "      <td>Venezuela’s Descent Into Dictatorship</td>\n",
              "      <td>['Venezuela', 'Politics and Government', 'Madu...</td>\n",
              "      <td>3</td>\n",
              "      <td>Editorial</td>\n",
              "      <td>22</td>\n",
              "      <td>2017-04-01 00:53:06</td>\n",
              "      <td>Unknown</td>\n",
              "      <td>A court ruling annulling the legislature’s aut...</td>\n",
              "      <td>The New York Times</td>\n",
              "      <td>Editorial</td>\n",
              "      <td>https://www.nytimes.com/2017/03/31/opinion/ven...</td>\n",
              "    </tr>\n",
              "    <tr>\n",
              "      <th>3</th>\n",
              "      <td>NaN</td>\n",
              "      <td>58defd317c459f24986d7c95</td>\n",
              "      <td>1374</td>\n",
              "      <td>By MICHAEL POWELL</td>\n",
              "      <td>article</td>\n",
              "      <td>Stain Permeates Basketball Blue Blood</td>\n",
              "      <td>['Basketball (College)', 'University of North ...</td>\n",
              "      <td>3</td>\n",
              "      <td>Sports</td>\n",
              "      <td>1</td>\n",
              "      <td>2017-04-01 01:06:52</td>\n",
              "      <td>College Basketball</td>\n",
              "      <td>For two decades, until 2013, North Carolina en...</td>\n",
              "      <td>The New York Times</td>\n",
              "      <td>News</td>\n",
              "      <td>https://www.nytimes.com/2017/03/31/sports/ncaa...</td>\n",
              "    </tr>\n",
              "    <tr>\n",
              "      <th>4</th>\n",
              "      <td>NaN</td>\n",
              "      <td>58df09b77c459f24986d7ca7</td>\n",
              "      <td>708</td>\n",
              "      <td>By DEB AMLEN</td>\n",
              "      <td>article</td>\n",
              "      <td>Taking Things for Granted</td>\n",
              "      <td>['Crossword Puzzles']</td>\n",
              "      <td>3</td>\n",
              "      <td>Games</td>\n",
              "      <td>0</td>\n",
              "      <td>2017-04-01 02:00:14</td>\n",
              "      <td>Unknown</td>\n",
              "      <td>In which Howard Barkin and Will Shortz teach u...</td>\n",
              "      <td>The New York Times</td>\n",
              "      <td>News</td>\n",
              "      <td>https://www.nytimes.com/2017/03/31/crosswords/...</td>\n",
              "    </tr>\n",
              "  </tbody>\n",
              "</table>\n",
              "</div>\n",
              "      <button class=\"colab-df-convert\" onclick=\"convertToInteractive('df-97af0738-f3d6-43e8-85ff-cf8a84ed0dd6')\"\n",
              "              title=\"Convert this dataframe to an interactive table.\"\n",
              "              style=\"display:none;\">\n",
              "        \n",
              "  <svg xmlns=\"http://www.w3.org/2000/svg\" height=\"24px\"viewBox=\"0 0 24 24\"\n",
              "       width=\"24px\">\n",
              "    <path d=\"M0 0h24v24H0V0z\" fill=\"none\"/>\n",
              "    <path d=\"M18.56 5.44l.94 2.06.94-2.06 2.06-.94-2.06-.94-.94-2.06-.94 2.06-2.06.94zm-11 1L8.5 8.5l.94-2.06 2.06-.94-2.06-.94L8.5 2.5l-.94 2.06-2.06.94zm10 10l.94 2.06.94-2.06 2.06-.94-2.06-.94-.94-2.06-.94 2.06-2.06.94z\"/><path d=\"M17.41 7.96l-1.37-1.37c-.4-.4-.92-.59-1.43-.59-.52 0-1.04.2-1.43.59L10.3 9.45l-7.72 7.72c-.78.78-.78 2.05 0 2.83L4 21.41c.39.39.9.59 1.41.59.51 0 1.02-.2 1.41-.59l7.78-7.78 2.81-2.81c.8-.78.8-2.07 0-2.86zM5.41 20L4 18.59l7.72-7.72 1.47 1.35L5.41 20z\"/>\n",
              "  </svg>\n",
              "      </button>\n",
              "      \n",
              "  <style>\n",
              "    .colab-df-container {\n",
              "      display:flex;\n",
              "      flex-wrap:wrap;\n",
              "      gap: 12px;\n",
              "    }\n",
              "\n",
              "    .colab-df-convert {\n",
              "      background-color: #E8F0FE;\n",
              "      border: none;\n",
              "      border-radius: 50%;\n",
              "      cursor: pointer;\n",
              "      display: none;\n",
              "      fill: #1967D2;\n",
              "      height: 32px;\n",
              "      padding: 0 0 0 0;\n",
              "      width: 32px;\n",
              "    }\n",
              "\n",
              "    .colab-df-convert:hover {\n",
              "      background-color: #E2EBFA;\n",
              "      box-shadow: 0px 1px 2px rgba(60, 64, 67, 0.3), 0px 1px 3px 1px rgba(60, 64, 67, 0.15);\n",
              "      fill: #174EA6;\n",
              "    }\n",
              "\n",
              "    [theme=dark] .colab-df-convert {\n",
              "      background-color: #3B4455;\n",
              "      fill: #D2E3FC;\n",
              "    }\n",
              "\n",
              "    [theme=dark] .colab-df-convert:hover {\n",
              "      background-color: #434B5C;\n",
              "      box-shadow: 0px 1px 3px 1px rgba(0, 0, 0, 0.15);\n",
              "      filter: drop-shadow(0px 1px 2px rgba(0, 0, 0, 0.3));\n",
              "      fill: #FFFFFF;\n",
              "    }\n",
              "  </style>\n",
              "\n",
              "      <script>\n",
              "        const buttonEl =\n",
              "          document.querySelector('#df-97af0738-f3d6-43e8-85ff-cf8a84ed0dd6 button.colab-df-convert');\n",
              "        buttonEl.style.display =\n",
              "          google.colab.kernel.accessAllowed ? 'block' : 'none';\n",
              "\n",
              "        async function convertToInteractive(key) {\n",
              "          const element = document.querySelector('#df-97af0738-f3d6-43e8-85ff-cf8a84ed0dd6');\n",
              "          const dataTable =\n",
              "            await google.colab.kernel.invokeFunction('convertToInteractive',\n",
              "                                                     [key], {});\n",
              "          if (!dataTable) return;\n",
              "\n",
              "          const docLinkHtml = 'Like what you see? Visit the ' +\n",
              "            '<a target=\"_blank\" href=https://colab.research.google.com/notebooks/data_table.ipynb>data table notebook</a>'\n",
              "            + ' to learn more about interactive tables.';\n",
              "          element.innerHTML = '';\n",
              "          dataTable['output_type'] = 'display_data';\n",
              "          await google.colab.output.renderOutput(dataTable, element);\n",
              "          const docLink = document.createElement('div');\n",
              "          docLink.innerHTML = docLinkHtml;\n",
              "          element.appendChild(docLink);\n",
              "        }\n",
              "      </script>\n",
              "    </div>\n",
              "  </div>\n",
              "  "
            ]
          },
          "metadata": {},
          "execution_count": 34
        }
      ]
    },
    {
      "cell_type": "code",
      "source": [
        "print('열의 개수: ', len(df.columns))\n",
        "print(df.columns)"
      ],
      "metadata": {
        "colab": {
          "base_uri": "https://localhost:8080/"
        },
        "id": "ZpZAPa-_9TiZ",
        "outputId": "a9b8ed2c-b135-4e46-982e-8262e561dfac"
      },
      "execution_count": 35,
      "outputs": [
        {
          "output_type": "stream",
          "name": "stdout",
          "text": [
            "열의 개수:  16\n",
            "Index(['abstract', 'articleID', 'articleWordCount', 'byline', 'documentType',\n",
            "       'headline', 'keywords', 'multimedia', 'newDesk', 'printPage', 'pubDate',\n",
            "       'sectionName', 'snippet', 'source', 'typeOfMaterial', 'webURL'],\n",
            "      dtype='object')\n"
          ]
        }
      ]
    },
    {
      "cell_type": "code",
      "source": [
        "print(df['headline'].isnull().values.any())"
      ],
      "metadata": {
        "colab": {
          "base_uri": "https://localhost:8080/"
        },
        "id": "CpYt03G29j84",
        "outputId": "0aec8768-aad8-4813-cb77-d4927cf91198"
      },
      "execution_count": 36,
      "outputs": [
        {
          "output_type": "stream",
          "name": "stdout",
          "text": [
            "False\n"
          ]
        }
      ]
    },
    {
      "cell_type": "code",
      "source": [
        "headline = []\n",
        "\n",
        "headline.extend(list(df.headline.values))\n",
        "headline[:5]"
      ],
      "metadata": {
        "colab": {
          "base_uri": "https://localhost:8080/"
        },
        "id": "GIU8pSao9skp",
        "outputId": "a8c8d04b-c3e3-4de2-8c57-4a7681ec09df"
      },
      "execution_count": 37,
      "outputs": [
        {
          "output_type": "execute_result",
          "data": {
            "text/plain": [
              "['Finding an Expansive View  of a Forgotten People in Niger',\n",
              " 'And Now,  the Dreaded Trump Curse',\n",
              " 'Venezuela’s Descent Into Dictatorship',\n",
              " 'Stain Permeates Basketball Blue Blood',\n",
              " 'Taking Things for Granted']"
            ]
          },
          "metadata": {},
          "execution_count": 37
        }
      ]
    },
    {
      "cell_type": "code",
      "source": [
        "print('총 샘플의 개수: {}'.format(len(headline)))"
      ],
      "metadata": {
        "colab": {
          "base_uri": "https://localhost:8080/"
        },
        "id": "VzEMq2Qf91qu",
        "outputId": "341bde38-0df9-461d-f7b3-ecd6efd61bff"
      },
      "execution_count": 38,
      "outputs": [
        {
          "output_type": "stream",
          "name": "stdout",
          "text": [
            "총 샘플의 개수: 886\n"
          ]
        }
      ]
    },
    {
      "cell_type": "code",
      "source": [
        "headline = [word for word in headline if word != \"Unknown\"]\n",
        "print('노이즈값 제거 후 샘플의 개수: {}'.format(len(headline)))"
      ],
      "metadata": {
        "colab": {
          "base_uri": "https://localhost:8080/"
        },
        "id": "rwXRvxX3980d",
        "outputId": "6934e82a-9426-468a-e8c3-313a6ad26d92"
      },
      "execution_count": 41,
      "outputs": [
        {
          "output_type": "stream",
          "name": "stdout",
          "text": [
            "노이즈값 제거 후 샘플의 개수: 831\n"
          ]
        }
      ]
    },
    {
      "cell_type": "code",
      "source": [
        "headline[:5]"
      ],
      "metadata": {
        "colab": {
          "base_uri": "https://localhost:8080/"
        },
        "id": "YvQPGxgi-Kdk",
        "outputId": "e340ae2a-40d8-4c98-b428-4c6266ba9e99"
      },
      "execution_count": 42,
      "outputs": [
        {
          "output_type": "execute_result",
          "data": {
            "text/plain": [
              "['Finding an Expansive View  of a Forgotten People in Niger',\n",
              " 'And Now,  the Dreaded Trump Curse',\n",
              " 'Venezuela’s Descent Into Dictatorship',\n",
              " 'Stain Permeates Basketball Blue Blood',\n",
              " 'Taking Things for Granted']"
            ]
          },
          "metadata": {},
          "execution_count": 42
        }
      ]
    },
    {
      "cell_type": "code",
      "source": [
        "from pandas.io.xml import preprocess_data\n",
        "def repreprocessing(raw_sentence):\n",
        "  preproceseed_sentence = raw_sentence.encode(\"utf8\").decode(\"ascii\", 'ignore')\n",
        "  ## 구두점 제거와 소문자화\n",
        "  return ''.join(word for word in preproceseed_sentence if word not in punctuation).lower()\n",
        "\n",
        "preprocessed_headline = [repreprocessing(x) for x in headline]\n",
        "preprocessed_headline[:5]"
      ],
      "metadata": {
        "colab": {
          "base_uri": "https://localhost:8080/"
        },
        "id": "fx2-TZVk-VtQ",
        "outputId": "8cb6b579-47c6-4abd-ee7d-8130cbb2550d"
      },
      "execution_count": 44,
      "outputs": [
        {
          "output_type": "execute_result",
          "data": {
            "text/plain": [
              "['finding an expansive view  of a forgotten people in niger',\n",
              " 'and now  the dreaded trump curse',\n",
              " 'venezuelas descent into dictatorship',\n",
              " 'stain permeates basketball blue blood',\n",
              " 'taking things for granted']"
            ]
          },
          "metadata": {},
          "execution_count": 44
        }
      ]
    },
    {
      "cell_type": "code",
      "source": [
        "tokenizer = Tokenizer()\n",
        "tokenizer.fit_on_texts(preprocessed_headline)\n",
        "vocab_size = len(tokenizer.word_index) + 1\n",
        "print('단어 집합의 크기 : %d' % vocab_size)"
      ],
      "metadata": {
        "colab": {
          "base_uri": "https://localhost:8080/"
        },
        "id": "W2k1KUly-53d",
        "outputId": "6e97d851-6263-409d-fe53-0a59dc6dd3fc"
      },
      "execution_count": 45,
      "outputs": [
        {
          "output_type": "stream",
          "name": "stdout",
          "text": [
            "단어 집합의 크기 : 2422\n"
          ]
        }
      ]
    },
    {
      "cell_type": "code",
      "source": [
        "sequences = list()\n",
        "\n",
        "for sentence in preprocessed_headline:\n",
        "  #각 샘플에 대한 정수 인코딩\n",
        "  encoded = tokenizer.texts_to_sequences([sentence])[0]\n",
        "  for i in range(1, len(encoded)):\n",
        "    sequence = encoded[:i+1]\n",
        "    sequences.append(sequence)\n",
        "\n",
        "sequences[:11]"
      ],
      "metadata": {
        "colab": {
          "base_uri": "https://localhost:8080/"
        },
        "id": "ZipAMkKg_WqL",
        "outputId": "91a1e733-a80d-4000-bbbb-1b875621b78d"
      },
      "execution_count": 46,
      "outputs": [
        {
          "output_type": "execute_result",
          "data": {
            "text/plain": [
              "[[169, 17],\n",
              " [169, 17, 665],\n",
              " [169, 17, 665, 367],\n",
              " [169, 17, 665, 367, 4],\n",
              " [169, 17, 665, 367, 4, 2],\n",
              " [169, 17, 665, 367, 4, 2, 666],\n",
              " [169, 17, 665, 367, 4, 2, 666, 170],\n",
              " [169, 17, 665, 367, 4, 2, 666, 170, 5],\n",
              " [169, 17, 665, 367, 4, 2, 666, 170, 5, 667],\n",
              " [6, 80],\n",
              " [6, 80, 1]]"
            ]
          },
          "metadata": {},
          "execution_count": 46
        }
      ]
    },
    {
      "cell_type": "code",
      "source": [
        "index_to_word = {}\n",
        "for key, value in tokenizer.word_index.items():\n",
        "  index_to_word[value] = key\n",
        "\n",
        "print('빈도수 상위 582번 단어 : {}'.format(index_to_word[582]))"
      ],
      "metadata": {
        "colab": {
          "base_uri": "https://localhost:8080/"
        },
        "id": "bQ73UMmJ_xtq",
        "outputId": "05ab6abf-cdbc-4649-8385-e1925ea88d35"
      },
      "execution_count": 47,
      "outputs": [
        {
          "output_type": "stream",
          "name": "stdout",
          "text": [
            "빈도수 상위 582번 단어 : exist\n"
          ]
        }
      ]
    },
    {
      "cell_type": "code",
      "source": [
        "max_len = max(len(l) for l in sequences)\n",
        "print('샘플 최대 길이 : {}'.format(max_len))"
      ],
      "metadata": {
        "colab": {
          "base_uri": "https://localhost:8080/"
        },
        "id": "u1Ba_qijATCO",
        "outputId": "cd0ac8ac-d4e4-40c5-d2e4-0903d19d54cb"
      },
      "execution_count": 52,
      "outputs": [
        {
          "output_type": "stream",
          "name": "stdout",
          "text": [
            "샘플 최대 길이 : 19\n"
          ]
        }
      ]
    },
    {
      "cell_type": "code",
      "source": [
        "sequences = pad_sequences(sequences, maxlen=max_len, padding='pre')\n",
        "print(sequences[:3])"
      ],
      "metadata": {
        "colab": {
          "base_uri": "https://localhost:8080/"
        },
        "id": "Aa6VzuNaAc6y",
        "outputId": "6b16e566-7af5-4050-ddc0-6928aad20f2a"
      },
      "execution_count": 53,
      "outputs": [
        {
          "output_type": "stream",
          "name": "stdout",
          "text": [
            "[[  0   0   0   0   0   0   0   0   0   0   0   0   0   0   0   0   0 169\n",
            "   17]\n",
            " [  0   0   0   0   0   0   0   0   0   0   0   0   0   0   0   0 169  17\n",
            "  665]\n",
            " [  0   0   0   0   0   0   0   0   0   0   0   0   0   0   0 169  17 665\n",
            "  367]]\n"
          ]
        }
      ]
    },
    {
      "cell_type": "code",
      "source": [
        "sequences = np.array(sequences)\n",
        "X = sequences[:,:-1]\n",
        "y = sequences[:,-1]"
      ],
      "metadata": {
        "id": "Fgw3uFrMCnLQ"
      },
      "execution_count": 54,
      "outputs": []
    },
    {
      "cell_type": "code",
      "source": [
        "print(X[:3])"
      ],
      "metadata": {
        "colab": {
          "base_uri": "https://localhost:8080/"
        },
        "id": "mQFNtNtcCxWz",
        "outputId": "6fe63237-8b6e-48b7-f1e0-1ba13f0d3aeb"
      },
      "execution_count": 55,
      "outputs": [
        {
          "output_type": "stream",
          "name": "stdout",
          "text": [
            "[[  0   0   0   0   0   0   0   0   0   0   0   0   0   0   0   0   0 169]\n",
            " [  0   0   0   0   0   0   0   0   0   0   0   0   0   0   0   0 169  17]\n",
            " [  0   0   0   0   0   0   0   0   0   0   0   0   0   0   0 169  17 665]]\n"
          ]
        }
      ]
    },
    {
      "cell_type": "code",
      "source": [
        "print(y[:3])"
      ],
      "metadata": {
        "colab": {
          "base_uri": "https://localhost:8080/"
        },
        "id": "2ZWMKvpnCy0d",
        "outputId": "6ae5aa2e-7ced-4bf6-c13f-391b6088f7df"
      },
      "execution_count": 56,
      "outputs": [
        {
          "output_type": "stream",
          "name": "stdout",
          "text": [
            "[ 17 665 367]\n"
          ]
        }
      ]
    },
    {
      "cell_type": "code",
      "source": [
        "y = to_categorical(y, num_classes=vocab_size)"
      ],
      "metadata": {
        "id": "C1gBVoJOC4E6"
      },
      "execution_count": 57,
      "outputs": []
    },
    {
      "cell_type": "code",
      "source": [
        "#모델 설계"
      ],
      "metadata": {
        "id": "52miqQsJC_A9"
      },
      "execution_count": 58,
      "outputs": []
    },
    {
      "cell_type": "code",
      "source": [
        "from tensorflow.keras.models import Sequential\n",
        "from tensorflow.keras.layers import Embedding, Dense, LSTM"
      ],
      "metadata": {
        "id": "VAun9zCxDBHS"
      },
      "execution_count": 59,
      "outputs": []
    },
    {
      "cell_type": "code",
      "source": [
        "embedding_dim = 10\n",
        "hidden_units = 128\n",
        "\n",
        "model = Sequential()\n",
        "model.add(Embedding(vocab_size, embedding_dim))\n",
        "model.add(LSTM(hidden_units))\n",
        "model.add(Dense(vocab_size, activation='softmax'))\n",
        "model.compile(loss='categorical_crossentropy', optimizer='adam', metrics=['accuracy'])\n",
        "model.fit(X, y, epochs=200, verbose=2)"
      ],
      "metadata": {
        "colab": {
          "base_uri": "https://localhost:8080/"
        },
        "id": "xR67PsKGDJfD",
        "outputId": "1419e979-2311-44ee-f1f7-9b8f6b9e5d47"
      },
      "execution_count": 60,
      "outputs": [
        {
          "output_type": "stream",
          "name": "stdout",
          "text": [
            "Epoch 1/200\n",
            "151/151 - 6s - loss: 7.4251 - accuracy: 0.0320 - 6s/epoch - 37ms/step\n",
            "Epoch 2/200\n",
            "151/151 - 4s - loss: 6.9131 - accuracy: 0.0312 - 4s/epoch - 25ms/step\n",
            "Epoch 3/200\n",
            "151/151 - 5s - loss: 6.7922 - accuracy: 0.0298 - 5s/epoch - 31ms/step\n",
            "Epoch 4/200\n",
            "151/151 - 5s - loss: 6.7068 - accuracy: 0.0304 - 5s/epoch - 35ms/step\n",
            "Epoch 5/200\n",
            "151/151 - 5s - loss: 6.6169 - accuracy: 0.0381 - 5s/epoch - 31ms/step\n",
            "Epoch 6/200\n",
            "151/151 - 4s - loss: 6.5096 - accuracy: 0.0483 - 4s/epoch - 26ms/step\n",
            "Epoch 7/200\n",
            "151/151 - 4s - loss: 6.3856 - accuracy: 0.0506 - 4s/epoch - 30ms/step\n",
            "Epoch 8/200\n",
            "151/151 - 5s - loss: 6.2645 - accuracy: 0.0497 - 5s/epoch - 31ms/step\n",
            "Epoch 9/200\n",
            "151/151 - 4s - loss: 6.1271 - accuracy: 0.0543 - 4s/epoch - 28ms/step\n",
            "Epoch 10/200\n",
            "151/151 - 5s - loss: 5.9871 - accuracy: 0.0593 - 5s/epoch - 31ms/step\n",
            "Epoch 11/200\n",
            "151/151 - 5s - loss: 5.8432 - accuracy: 0.0626 - 5s/epoch - 31ms/step\n",
            "Epoch 12/200\n",
            "151/151 - 5s - loss: 5.7075 - accuracy: 0.0641 - 5s/epoch - 33ms/step\n",
            "Epoch 13/200\n",
            "151/151 - 4s - loss: 5.5702 - accuracy: 0.0687 - 4s/epoch - 30ms/step\n",
            "Epoch 14/200\n",
            "151/151 - 4s - loss: 5.4388 - accuracy: 0.0699 - 4s/epoch - 26ms/step\n",
            "Epoch 15/200\n",
            "151/151 - 4s - loss: 5.3117 - accuracy: 0.0741 - 4s/epoch - 28ms/step\n",
            "Epoch 16/200\n",
            "151/151 - 4s - loss: 5.1871 - accuracy: 0.0805 - 4s/epoch - 29ms/step\n",
            "Epoch 17/200\n",
            "151/151 - 4s - loss: 5.0691 - accuracy: 0.0855 - 4s/epoch - 29ms/step\n",
            "Epoch 18/200\n",
            "151/151 - 5s - loss: 4.9529 - accuracy: 0.0882 - 5s/epoch - 32ms/step\n",
            "Epoch 19/200\n",
            "151/151 - 5s - loss: 4.8396 - accuracy: 0.0924 - 5s/epoch - 30ms/step\n",
            "Epoch 20/200\n",
            "151/151 - 4s - loss: 4.7281 - accuracy: 0.0999 - 4s/epoch - 29ms/step\n",
            "Epoch 21/200\n",
            "151/151 - 4s - loss: 4.6203 - accuracy: 0.1099 - 4s/epoch - 25ms/step\n",
            "Epoch 22/200\n",
            "151/151 - 5s - loss: 4.5141 - accuracy: 0.1192 - 5s/epoch - 32ms/step\n",
            "Epoch 23/200\n",
            "151/151 - 3s - loss: 4.4129 - accuracy: 0.1346 - 3s/epoch - 22ms/step\n",
            "Epoch 24/200\n",
            "151/151 - 4s - loss: 4.3139 - accuracy: 0.1467 - 4s/epoch - 27ms/step\n",
            "Epoch 25/200\n",
            "151/151 - 5s - loss: 4.2147 - accuracy: 0.1644 - 5s/epoch - 34ms/step\n",
            "Epoch 26/200\n",
            "151/151 - 5s - loss: 4.1197 - accuracy: 0.1800 - 5s/epoch - 34ms/step\n",
            "Epoch 27/200\n",
            "151/151 - 5s - loss: 4.0242 - accuracy: 0.1964 - 5s/epoch - 33ms/step\n",
            "Epoch 28/200\n",
            "151/151 - 5s - loss: 3.9357 - accuracy: 0.2095 - 5s/epoch - 32ms/step\n",
            "Epoch 29/200\n",
            "151/151 - 4s - loss: 3.8478 - accuracy: 0.2305 - 4s/epoch - 29ms/step\n",
            "Epoch 30/200\n",
            "151/151 - 4s - loss: 3.7614 - accuracy: 0.2430 - 4s/epoch - 29ms/step\n",
            "Epoch 31/200\n",
            "151/151 - 5s - loss: 3.6784 - accuracy: 0.2603 - 5s/epoch - 32ms/step\n",
            "Epoch 32/200\n",
            "151/151 - 4s - loss: 3.5955 - accuracy: 0.2788 - 4s/epoch - 28ms/step\n",
            "Epoch 33/200\n",
            "151/151 - 5s - loss: 3.5165 - accuracy: 0.2942 - 5s/epoch - 33ms/step\n",
            "Epoch 34/200\n",
            "151/151 - 5s - loss: 3.4366 - accuracy: 0.3079 - 5s/epoch - 35ms/step\n",
            "Epoch 35/200\n",
            "151/151 - 4s - loss: 3.3637 - accuracy: 0.3156 - 4s/epoch - 28ms/step\n",
            "Epoch 36/200\n",
            "151/151 - 4s - loss: 3.2899 - accuracy: 0.3317 - 4s/epoch - 30ms/step\n",
            "Epoch 37/200\n",
            "151/151 - 4s - loss: 3.2183 - accuracy: 0.3452 - 4s/epoch - 29ms/step\n",
            "Epoch 38/200\n",
            "151/151 - 4s - loss: 3.1474 - accuracy: 0.3571 - 4s/epoch - 30ms/step\n",
            "Epoch 39/200\n",
            "151/151 - 4s - loss: 3.0805 - accuracy: 0.3700 - 4s/epoch - 26ms/step\n",
            "Epoch 40/200\n",
            "151/151 - 4s - loss: 3.0174 - accuracy: 0.3806 - 4s/epoch - 29ms/step\n",
            "Epoch 41/200\n",
            "151/151 - 5s - loss: 2.9537 - accuracy: 0.3868 - 5s/epoch - 32ms/step\n",
            "Epoch 42/200\n",
            "151/151 - 3s - loss: 2.8925 - accuracy: 0.3983 - 3s/epoch - 23ms/step\n",
            "Epoch 43/200\n",
            "151/151 - 3s - loss: 2.8372 - accuracy: 0.4087 - 3s/epoch - 22ms/step\n",
            "Epoch 44/200\n",
            "151/151 - 3s - loss: 2.7758 - accuracy: 0.4201 - 3s/epoch - 22ms/step\n",
            "Epoch 45/200\n",
            "151/151 - 3s - loss: 2.7187 - accuracy: 0.4326 - 3s/epoch - 22ms/step\n",
            "Epoch 46/200\n",
            "151/151 - 3s - loss: 2.6650 - accuracy: 0.4422 - 3s/epoch - 22ms/step\n",
            "Epoch 47/200\n",
            "151/151 - 3s - loss: 2.6151 - accuracy: 0.4465 - 3s/epoch - 22ms/step\n",
            "Epoch 48/200\n",
            "151/151 - 3s - loss: 2.5634 - accuracy: 0.4619 - 3s/epoch - 22ms/step\n",
            "Epoch 49/200\n",
            "151/151 - 3s - loss: 2.5155 - accuracy: 0.4688 - 3s/epoch - 22ms/step\n",
            "Epoch 50/200\n",
            "151/151 - 3s - loss: 2.4677 - accuracy: 0.4786 - 3s/epoch - 22ms/step\n",
            "Epoch 51/200\n",
            "151/151 - 3s - loss: 2.4230 - accuracy: 0.4875 - 3s/epoch - 22ms/step\n",
            "Epoch 52/200\n",
            "151/151 - 3s - loss: 2.3738 - accuracy: 0.4917 - 3s/epoch - 22ms/step\n",
            "Epoch 53/200\n",
            "151/151 - 3s - loss: 2.3320 - accuracy: 0.5071 - 3s/epoch - 22ms/step\n",
            "Epoch 54/200\n",
            "151/151 - 3s - loss: 2.2881 - accuracy: 0.5141 - 3s/epoch - 22ms/step\n",
            "Epoch 55/200\n",
            "151/151 - 3s - loss: 2.2479 - accuracy: 0.5218 - 3s/epoch - 22ms/step\n",
            "Epoch 56/200\n",
            "151/151 - 3s - loss: 2.2048 - accuracy: 0.5298 - 3s/epoch - 22ms/step\n",
            "Epoch 57/200\n",
            "151/151 - 3s - loss: 2.1660 - accuracy: 0.5410 - 3s/epoch - 22ms/step\n",
            "Epoch 58/200\n",
            "151/151 - 3s - loss: 2.1260 - accuracy: 0.5449 - 3s/epoch - 22ms/step\n",
            "Epoch 59/200\n",
            "151/151 - 3s - loss: 2.0876 - accuracy: 0.5541 - 3s/epoch - 22ms/step\n",
            "Epoch 60/200\n",
            "151/151 - 3s - loss: 2.0515 - accuracy: 0.5626 - 3s/epoch - 22ms/step\n",
            "Epoch 61/200\n",
            "151/151 - 3s - loss: 2.0157 - accuracy: 0.5678 - 3s/epoch - 22ms/step\n",
            "Epoch 62/200\n",
            "151/151 - 3s - loss: 1.9821 - accuracy: 0.5751 - 3s/epoch - 22ms/step\n",
            "Epoch 63/200\n",
            "151/151 - 3s - loss: 1.9429 - accuracy: 0.5853 - 3s/epoch - 22ms/step\n",
            "Epoch 64/200\n",
            "151/151 - 5s - loss: 1.9084 - accuracy: 0.5916 - 5s/epoch - 32ms/step\n",
            "Epoch 65/200\n",
            "151/151 - 4s - loss: 1.8769 - accuracy: 0.5970 - 4s/epoch - 27ms/step\n",
            "Epoch 66/200\n",
            "151/151 - 5s - loss: 1.8449 - accuracy: 0.6022 - 5s/epoch - 31ms/step\n",
            "Epoch 67/200\n",
            "151/151 - 4s - loss: 1.8148 - accuracy: 0.6105 - 4s/epoch - 26ms/step\n",
            "Epoch 68/200\n",
            "151/151 - 5s - loss: 1.7779 - accuracy: 0.6217 - 5s/epoch - 31ms/step\n",
            "Epoch 69/200\n",
            "151/151 - 5s - loss: 1.7505 - accuracy: 0.6292 - 5s/epoch - 32ms/step\n",
            "Epoch 70/200\n",
            "151/151 - 4s - loss: 1.7182 - accuracy: 0.6334 - 4s/epoch - 28ms/step\n",
            "Epoch 71/200\n",
            "151/151 - 5s - loss: 1.6903 - accuracy: 0.6407 - 5s/epoch - 30ms/step\n",
            "Epoch 72/200\n",
            "151/151 - 4s - loss: 1.6606 - accuracy: 0.6486 - 4s/epoch - 26ms/step\n",
            "Epoch 73/200\n",
            "151/151 - 5s - loss: 1.6322 - accuracy: 0.6556 - 5s/epoch - 31ms/step\n",
            "Epoch 74/200\n",
            "151/151 - 5s - loss: 1.6023 - accuracy: 0.6660 - 5s/epoch - 32ms/step\n",
            "Epoch 75/200\n",
            "151/151 - 4s - loss: 1.5765 - accuracy: 0.6660 - 4s/epoch - 27ms/step\n",
            "Epoch 76/200\n",
            "151/151 - 4s - loss: 1.5481 - accuracy: 0.6742 - 4s/epoch - 29ms/step\n",
            "Epoch 77/200\n",
            "151/151 - 5s - loss: 1.5195 - accuracy: 0.6810 - 5s/epoch - 33ms/step\n",
            "Epoch 78/200\n",
            "151/151 - 3s - loss: 1.4936 - accuracy: 0.6871 - 3s/epoch - 23ms/step\n",
            "Epoch 79/200\n",
            "151/151 - 4s - loss: 1.4678 - accuracy: 0.6900 - 4s/epoch - 28ms/step\n",
            "Epoch 80/200\n",
            "151/151 - 4s - loss: 1.4416 - accuracy: 0.6975 - 4s/epoch - 29ms/step\n",
            "Epoch 81/200\n",
            "151/151 - 4s - loss: 1.4200 - accuracy: 0.7027 - 4s/epoch - 30ms/step\n",
            "Epoch 82/200\n",
            "151/151 - 5s - loss: 1.3934 - accuracy: 0.7050 - 5s/epoch - 31ms/step\n",
            "Epoch 83/200\n",
            "151/151 - 4s - loss: 1.3713 - accuracy: 0.7104 - 4s/epoch - 26ms/step\n",
            "Epoch 84/200\n",
            "151/151 - 3s - loss: 1.3441 - accuracy: 0.7168 - 3s/epoch - 22ms/step\n",
            "Epoch 85/200\n",
            "151/151 - 3s - loss: 1.3263 - accuracy: 0.7172 - 3s/epoch - 22ms/step\n",
            "Epoch 86/200\n",
            "151/151 - 3s - loss: 1.2999 - accuracy: 0.7272 - 3s/epoch - 22ms/step\n",
            "Epoch 87/200\n",
            "151/151 - 3s - loss: 1.2786 - accuracy: 0.7289 - 3s/epoch - 22ms/step\n",
            "Epoch 88/200\n",
            "151/151 - 3s - loss: 1.2550 - accuracy: 0.7347 - 3s/epoch - 22ms/step\n",
            "Epoch 89/200\n",
            "151/151 - 3s - loss: 1.2330 - accuracy: 0.7399 - 3s/epoch - 22ms/step\n",
            "Epoch 90/200\n",
            "151/151 - 3s - loss: 1.2111 - accuracy: 0.7478 - 3s/epoch - 22ms/step\n",
            "Epoch 91/200\n",
            "151/151 - 3s - loss: 1.1893 - accuracy: 0.7524 - 3s/epoch - 22ms/step\n",
            "Epoch 92/200\n",
            "151/151 - 3s - loss: 1.1688 - accuracy: 0.7534 - 3s/epoch - 22ms/step\n",
            "Epoch 93/200\n",
            "151/151 - 3s - loss: 1.1534 - accuracy: 0.7611 - 3s/epoch - 22ms/step\n",
            "Epoch 94/200\n",
            "151/151 - 3s - loss: 1.1317 - accuracy: 0.7665 - 3s/epoch - 22ms/step\n",
            "Epoch 95/200\n",
            "151/151 - 3s - loss: 1.1059 - accuracy: 0.7713 - 3s/epoch - 22ms/step\n",
            "Epoch 96/200\n",
            "151/151 - 3s - loss: 1.0900 - accuracy: 0.7749 - 3s/epoch - 22ms/step\n",
            "Epoch 97/200\n",
            "151/151 - 3s - loss: 1.0688 - accuracy: 0.7757 - 3s/epoch - 22ms/step\n",
            "Epoch 98/200\n",
            "151/151 - 3s - loss: 1.0493 - accuracy: 0.7799 - 3s/epoch - 22ms/step\n",
            "Epoch 99/200\n",
            "151/151 - 3s - loss: 1.0351 - accuracy: 0.7815 - 3s/epoch - 22ms/step\n",
            "Epoch 100/200\n",
            "151/151 - 3s - loss: 1.0156 - accuracy: 0.7861 - 3s/epoch - 22ms/step\n",
            "Epoch 101/200\n",
            "151/151 - 3s - loss: 0.9969 - accuracy: 0.7950 - 3s/epoch - 22ms/step\n",
            "Epoch 102/200\n",
            "151/151 - 3s - loss: 0.9819 - accuracy: 0.7980 - 3s/epoch - 22ms/step\n",
            "Epoch 103/200\n",
            "151/151 - 3s - loss: 0.9633 - accuracy: 0.7984 - 3s/epoch - 22ms/step\n",
            "Epoch 104/200\n",
            "151/151 - 3s - loss: 0.9477 - accuracy: 0.8034 - 3s/epoch - 22ms/step\n",
            "Epoch 105/200\n",
            "151/151 - 3s - loss: 0.9287 - accuracy: 0.8065 - 3s/epoch - 22ms/step\n",
            "Epoch 106/200\n",
            "151/151 - 3s - loss: 0.9122 - accuracy: 0.8115 - 3s/epoch - 22ms/step\n",
            "Epoch 107/200\n",
            "151/151 - 3s - loss: 0.8979 - accuracy: 0.8113 - 3s/epoch - 22ms/step\n",
            "Epoch 108/200\n",
            "151/151 - 3s - loss: 0.8805 - accuracy: 0.8138 - 3s/epoch - 22ms/step\n",
            "Epoch 109/200\n",
            "151/151 - 3s - loss: 0.8661 - accuracy: 0.8223 - 3s/epoch - 22ms/step\n",
            "Epoch 110/200\n",
            "151/151 - 3s - loss: 0.8506 - accuracy: 0.8238 - 3s/epoch - 22ms/step\n",
            "Epoch 111/200\n",
            "151/151 - 3s - loss: 0.8392 - accuracy: 0.8231 - 3s/epoch - 22ms/step\n",
            "Epoch 112/200\n",
            "151/151 - 3s - loss: 0.8242 - accuracy: 0.8283 - 3s/epoch - 22ms/step\n",
            "Epoch 113/200\n",
            "151/151 - 3s - loss: 0.8090 - accuracy: 0.8325 - 3s/epoch - 22ms/step\n",
            "Epoch 114/200\n",
            "151/151 - 3s - loss: 0.7951 - accuracy: 0.8335 - 3s/epoch - 22ms/step\n",
            "Epoch 115/200\n",
            "151/151 - 3s - loss: 0.7813 - accuracy: 0.8362 - 3s/epoch - 22ms/step\n",
            "Epoch 116/200\n",
            "151/151 - 3s - loss: 0.7689 - accuracy: 0.8362 - 3s/epoch - 22ms/step\n",
            "Epoch 117/200\n",
            "151/151 - 3s - loss: 0.7536 - accuracy: 0.8446 - 3s/epoch - 21ms/step\n",
            "Epoch 118/200\n",
            "151/151 - 3s - loss: 0.7411 - accuracy: 0.8439 - 3s/epoch - 22ms/step\n",
            "Epoch 119/200\n",
            "151/151 - 3s - loss: 0.7290 - accuracy: 0.8456 - 3s/epoch - 22ms/step\n",
            "Epoch 120/200\n",
            "151/151 - 3s - loss: 0.7173 - accuracy: 0.8454 - 3s/epoch - 22ms/step\n",
            "Epoch 121/200\n",
            "151/151 - 3s - loss: 0.7050 - accuracy: 0.8462 - 3s/epoch - 22ms/step\n",
            "Epoch 122/200\n",
            "151/151 - 3s - loss: 0.6936 - accuracy: 0.8523 - 3s/epoch - 22ms/step\n",
            "Epoch 123/200\n",
            "151/151 - 3s - loss: 0.6819 - accuracy: 0.8546 - 3s/epoch - 22ms/step\n",
            "Epoch 124/200\n",
            "151/151 - 3s - loss: 0.6731 - accuracy: 0.8558 - 3s/epoch - 22ms/step\n",
            "Epoch 125/200\n",
            "151/151 - 3s - loss: 0.6616 - accuracy: 0.8566 - 3s/epoch - 22ms/step\n",
            "Epoch 126/200\n",
            "151/151 - 3s - loss: 0.6475 - accuracy: 0.8600 - 3s/epoch - 22ms/step\n",
            "Epoch 127/200\n",
            "151/151 - 3s - loss: 0.6375 - accuracy: 0.8623 - 3s/epoch - 22ms/step\n",
            "Epoch 128/200\n",
            "151/151 - 3s - loss: 0.6282 - accuracy: 0.8641 - 3s/epoch - 22ms/step\n",
            "Epoch 129/200\n",
            "151/151 - 3s - loss: 0.6217 - accuracy: 0.8660 - 3s/epoch - 22ms/step\n",
            "Epoch 130/200\n",
            "151/151 - 3s - loss: 0.6089 - accuracy: 0.8675 - 3s/epoch - 21ms/step\n",
            "Epoch 131/200\n",
            "151/151 - 3s - loss: 0.5972 - accuracy: 0.8687 - 3s/epoch - 22ms/step\n",
            "Epoch 132/200\n",
            "151/151 - 3s - loss: 0.5879 - accuracy: 0.8712 - 3s/epoch - 22ms/step\n",
            "Epoch 133/200\n",
            "151/151 - 3s - loss: 0.5799 - accuracy: 0.8704 - 3s/epoch - 22ms/step\n",
            "Epoch 134/200\n",
            "151/151 - 3s - loss: 0.5755 - accuracy: 0.8720 - 3s/epoch - 22ms/step\n",
            "Epoch 135/200\n",
            "151/151 - 3s - loss: 0.5669 - accuracy: 0.8754 - 3s/epoch - 22ms/step\n",
            "Epoch 136/200\n",
            "151/151 - 3s - loss: 0.5554 - accuracy: 0.8745 - 3s/epoch - 22ms/step\n",
            "Epoch 137/200\n",
            "151/151 - 3s - loss: 0.5465 - accuracy: 0.8781 - 3s/epoch - 22ms/step\n",
            "Epoch 138/200\n",
            "151/151 - 3s - loss: 0.5364 - accuracy: 0.8799 - 3s/epoch - 22ms/step\n",
            "Epoch 139/200\n",
            "151/151 - 3s - loss: 0.5279 - accuracy: 0.8814 - 3s/epoch - 22ms/step\n",
            "Epoch 140/200\n",
            "151/151 - 3s - loss: 0.5217 - accuracy: 0.8843 - 3s/epoch - 22ms/step\n",
            "Epoch 141/200\n",
            "151/151 - 3s - loss: 0.5151 - accuracy: 0.8839 - 3s/epoch - 22ms/step\n",
            "Epoch 142/200\n",
            "151/151 - 3s - loss: 0.5051 - accuracy: 0.8872 - 3s/epoch - 22ms/step\n",
            "Epoch 143/200\n",
            "151/151 - 3s - loss: 0.4986 - accuracy: 0.8883 - 3s/epoch - 22ms/step\n",
            "Epoch 144/200\n",
            "151/151 - 3s - loss: 0.4920 - accuracy: 0.8893 - 3s/epoch - 22ms/step\n",
            "Epoch 145/200\n",
            "151/151 - 3s - loss: 0.4842 - accuracy: 0.8924 - 3s/epoch - 22ms/step\n",
            "Epoch 146/200\n",
            "151/151 - 3s - loss: 0.4784 - accuracy: 0.8899 - 3s/epoch - 22ms/step\n",
            "Epoch 147/200\n",
            "151/151 - 3s - loss: 0.4692 - accuracy: 0.8891 - 3s/epoch - 22ms/step\n",
            "Epoch 148/200\n",
            "151/151 - 3s - loss: 0.4643 - accuracy: 0.8935 - 3s/epoch - 22ms/step\n",
            "Epoch 149/200\n",
            "151/151 - 3s - loss: 0.4582 - accuracy: 0.8912 - 3s/epoch - 22ms/step\n",
            "Epoch 150/200\n",
            "151/151 - 3s - loss: 0.4502 - accuracy: 0.8924 - 3s/epoch - 22ms/step\n",
            "Epoch 151/200\n",
            "151/151 - 3s - loss: 0.4442 - accuracy: 0.8955 - 3s/epoch - 22ms/step\n",
            "Epoch 152/200\n",
            "151/151 - 3s - loss: 0.4373 - accuracy: 0.8955 - 3s/epoch - 22ms/step\n",
            "Epoch 153/200\n",
            "151/151 - 3s - loss: 0.4329 - accuracy: 0.8989 - 3s/epoch - 22ms/step\n",
            "Epoch 154/200\n",
            "151/151 - 3s - loss: 0.4288 - accuracy: 0.8980 - 3s/epoch - 22ms/step\n",
            "Epoch 155/200\n",
            "151/151 - 3s - loss: 0.4227 - accuracy: 0.8999 - 3s/epoch - 22ms/step\n",
            "Epoch 156/200\n",
            "151/151 - 3s - loss: 0.4170 - accuracy: 0.8966 - 3s/epoch - 22ms/step\n",
            "Epoch 157/200\n",
            "151/151 - 3s - loss: 0.4100 - accuracy: 0.8995 - 3s/epoch - 22ms/step\n",
            "Epoch 158/200\n",
            "151/151 - 3s - loss: 0.4049 - accuracy: 0.9010 - 3s/epoch - 22ms/step\n",
            "Epoch 159/200\n",
            "151/151 - 3s - loss: 0.3998 - accuracy: 0.9010 - 3s/epoch - 22ms/step\n",
            "Epoch 160/200\n",
            "151/151 - 3s - loss: 0.3967 - accuracy: 0.9005 - 3s/epoch - 22ms/step\n",
            "Epoch 161/200\n",
            "151/151 - 3s - loss: 0.3915 - accuracy: 0.9030 - 3s/epoch - 22ms/step\n",
            "Epoch 162/200\n",
            "151/151 - 3s - loss: 0.3872 - accuracy: 0.9051 - 3s/epoch - 22ms/step\n",
            "Epoch 163/200\n",
            "151/151 - 3s - loss: 0.3838 - accuracy: 0.9032 - 3s/epoch - 22ms/step\n",
            "Epoch 164/200\n",
            "151/151 - 3s - loss: 0.3799 - accuracy: 0.9012 - 3s/epoch - 22ms/step\n",
            "Epoch 165/200\n",
            "151/151 - 3s - loss: 0.3743 - accuracy: 0.9047 - 3s/epoch - 22ms/step\n",
            "Epoch 166/200\n",
            "151/151 - 3s - loss: 0.3695 - accuracy: 0.9047 - 3s/epoch - 22ms/step\n",
            "Epoch 167/200\n",
            "151/151 - 3s - loss: 0.3649 - accuracy: 0.9057 - 3s/epoch - 22ms/step\n",
            "Epoch 168/200\n",
            "151/151 - 3s - loss: 0.3609 - accuracy: 0.9062 - 3s/epoch - 22ms/step\n",
            "Epoch 169/200\n",
            "151/151 - 3s - loss: 0.3581 - accuracy: 0.9047 - 3s/epoch - 22ms/step\n",
            "Epoch 170/200\n",
            "151/151 - 3s - loss: 0.3544 - accuracy: 0.9064 - 3s/epoch - 22ms/step\n",
            "Epoch 171/200\n",
            "151/151 - 3s - loss: 0.3496 - accuracy: 0.9060 - 3s/epoch - 22ms/step\n",
            "Epoch 172/200\n",
            "151/151 - 3s - loss: 0.3489 - accuracy: 0.9047 - 3s/epoch - 22ms/step\n",
            "Epoch 173/200\n",
            "151/151 - 3s - loss: 0.3443 - accuracy: 0.9082 - 3s/epoch - 22ms/step\n",
            "Epoch 174/200\n",
            "151/151 - 3s - loss: 0.3443 - accuracy: 0.9057 - 3s/epoch - 22ms/step\n",
            "Epoch 175/200\n",
            "151/151 - 3s - loss: 0.3392 - accuracy: 0.9049 - 3s/epoch - 22ms/step\n",
            "Epoch 176/200\n",
            "151/151 - 3s - loss: 0.3361 - accuracy: 0.9064 - 3s/epoch - 22ms/step\n",
            "Epoch 177/200\n",
            "151/151 - 3s - loss: 0.3345 - accuracy: 0.9070 - 3s/epoch - 22ms/step\n",
            "Epoch 178/200\n",
            "151/151 - 3s - loss: 0.3315 - accuracy: 0.9068 - 3s/epoch - 22ms/step\n",
            "Epoch 179/200\n",
            "151/151 - 3s - loss: 0.3290 - accuracy: 0.9064 - 3s/epoch - 22ms/step\n",
            "Epoch 180/200\n",
            "151/151 - 3s - loss: 0.3281 - accuracy: 0.9041 - 3s/epoch - 22ms/step\n",
            "Epoch 181/200\n",
            "151/151 - 3s - loss: 0.3240 - accuracy: 0.9070 - 3s/epoch - 22ms/step\n",
            "Epoch 182/200\n",
            "151/151 - 3s - loss: 0.3219 - accuracy: 0.9082 - 3s/epoch - 22ms/step\n",
            "Epoch 183/200\n",
            "151/151 - 3s - loss: 0.3189 - accuracy: 0.9080 - 3s/epoch - 22ms/step\n",
            "Epoch 184/200\n",
            "151/151 - 3s - loss: 0.3236 - accuracy: 0.9060 - 3s/epoch - 22ms/step\n",
            "Epoch 185/200\n",
            "151/151 - 3s - loss: 0.3195 - accuracy: 0.9068 - 3s/epoch - 22ms/step\n",
            "Epoch 186/200\n",
            "151/151 - 3s - loss: 0.3128 - accuracy: 0.9084 - 3s/epoch - 22ms/step\n",
            "Epoch 187/200\n",
            "151/151 - 3s - loss: 0.3091 - accuracy: 0.9080 - 3s/epoch - 21ms/step\n",
            "Epoch 188/200\n",
            "151/151 - 3s - loss: 0.3097 - accuracy: 0.9084 - 3s/epoch - 22ms/step\n",
            "Epoch 189/200\n",
            "151/151 - 3s - loss: 0.3082 - accuracy: 0.9078 - 3s/epoch - 21ms/step\n",
            "Epoch 190/200\n",
            "151/151 - 3s - loss: 0.3056 - accuracy: 0.9066 - 3s/epoch - 22ms/step\n",
            "Epoch 191/200\n",
            "151/151 - 3s - loss: 0.3041 - accuracy: 0.9082 - 3s/epoch - 22ms/step\n",
            "Epoch 192/200\n",
            "151/151 - 3s - loss: 0.3036 - accuracy: 0.9074 - 3s/epoch - 22ms/step\n",
            "Epoch 193/200\n",
            "151/151 - 3s - loss: 0.3001 - accuracy: 0.9101 - 3s/epoch - 22ms/step\n",
            "Epoch 194/200\n",
            "151/151 - 3s - loss: 0.2991 - accuracy: 0.9095 - 3s/epoch - 22ms/step\n",
            "Epoch 195/200\n",
            "151/151 - 3s - loss: 0.2975 - accuracy: 0.9089 - 3s/epoch - 22ms/step\n",
            "Epoch 196/200\n",
            "151/151 - 3s - loss: 0.2964 - accuracy: 0.9091 - 3s/epoch - 22ms/step\n",
            "Epoch 197/200\n",
            "151/151 - 3s - loss: 0.2976 - accuracy: 0.9074 - 3s/epoch - 22ms/step\n",
            "Epoch 198/200\n",
            "151/151 - 3s - loss: 0.2955 - accuracy: 0.9082 - 3s/epoch - 22ms/step\n",
            "Epoch 199/200\n",
            "151/151 - 3s - loss: 0.2932 - accuracy: 0.9093 - 3s/epoch - 22ms/step\n",
            "Epoch 200/200\n",
            "151/151 - 3s - loss: 0.2947 - accuracy: 0.9089 - 3s/epoch - 22ms/step\n"
          ]
        },
        {
          "output_type": "execute_result",
          "data": {
            "text/plain": [
              "<keras.callbacks.History at 0x7f93187aead0>"
            ]
          },
          "metadata": {},
          "execution_count": 60
        }
      ]
    },
    {
      "cell_type": "code",
      "source": [
        "def sentence_generation(model, tokenizer, current_word, n):\n",
        "  init_word = current_word\n",
        "  sentence = ''\n",
        "\n",
        "  for i in range(n):\n",
        "    encoded = tokenizer.texts_to_sequences([current_word])[0]\n",
        "    encoded = pad_sequences([encoded], maxlen=max_len-1, padding='pre')\n",
        "\n",
        "    result = model.predict(encoded, verbose=0)\n",
        "    result = np.argmax(result, axis=1)\n",
        "\n",
        "    for word, index in tokenizer.word_index.items():\n",
        "      if index == result:\n",
        "        break\n",
        "    \n",
        "    current_word = current_word + ' ' + word\n",
        "\n",
        "    sentence = sentence + ' ' + word\n",
        "\n",
        "  sentence = init_word + sentence\n",
        "  return sentence"
      ],
      "metadata": {
        "id": "1CDJINgfDZD-"
      },
      "execution_count": 61,
      "outputs": []
    },
    {
      "cell_type": "code",
      "source": [
        "print(sentence_generation(model, tokenizer, 'i', 10))"
      ],
      "metadata": {
        "colab": {
          "base_uri": "https://localhost:8080/"
        },
        "id": "GSrMpxYJEsg7",
        "outputId": "74c554f4-35b1-47bc-b343-b0f9528b8ede"
      },
      "execution_count": 62,
      "outputs": [
        {
          "output_type": "stream",
          "name": "stdout",
          "text": [
            "i love my sublet and i want to buy it how\n"
          ]
        }
      ]
    },
    {
      "cell_type": "code",
      "source": [
        "print(sentence_generation(model, tokenizer, 'how', 10))"
      ],
      "metadata": {
        "colab": {
          "base_uri": "https://localhost:8080/"
        },
        "id": "DSAeWotcGciV",
        "outputId": "3ec1730c-ebb9-4ec1-8d6f-f3a5f0463151"
      },
      "execution_count": 63,
      "outputs": [
        {
          "output_type": "stream",
          "name": "stdout",
          "text": [
            "how to be mindful while cleaning the bathroom vote count to\n"
          ]
        }
      ]
    },
    {
      "cell_type": "code",
      "source": [
        ""
      ],
      "metadata": {
        "id": "TmN5wvrOGhrU"
      },
      "execution_count": null,
      "outputs": []
    }
  ]
}